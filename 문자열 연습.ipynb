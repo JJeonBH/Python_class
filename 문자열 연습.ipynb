{
 "cells": [
  {
   "cell_type": "code",
   "execution_count": 10,
   "id": "f9879d33",
   "metadata": {},
   "outputs": [
    {
     "name": "stdout",
     "output_type": "stream",
     "text": [
      "학교에 '갑니다.\n"
     ]
    }
   ],
   "source": [
    "str = '학교에 \\'갑니다.'\n",
    "print(str)"
   ]
  },
  {
   "cell_type": "code",
   "execution_count": 16,
   "id": "78158996",
   "metadata": {},
   "outputs": [
    {
     "name": "stdout",
     "output_type": "stream",
     "text": [
      "파이썬123\t 문자열123\t 너무123\t 재미있네요\n",
      "파이썬123\\ 문자열123\\ 너무123\\ 재미있네요\n"
     ]
    }
   ],
   "source": [
    "str = '파이썬123\\t 문자열123\\t 너무123\\t 재미있네요'\n",
    "str2 = '파이썬123\\\\ 문자열123\\\\ 너무123\\\\ 재미있네요'\n",
    "\n",
    "print(str)\n",
    "print(str2)"
   ]
  },
  {
   "cell_type": "code",
   "execution_count": 24,
   "id": "c61938be",
   "metadata": {},
   "outputs": [
    {
     "name": "stdout",
     "output_type": "stream",
     "text": [
      "동해물과 백두산이 마르고 닳도록 \n",
      "하느님이 보우하사 우리나라 만세 \n",
      "무궁화 삼천리 화려 강산 \n",
      "대한사람 대한으로 길이 보전하세\n"
     ]
    }
   ],
   "source": [
    "print(\"\"\"동해물과 백두산이 마르고 닳도록 \n",
    "하느님이 보우하사 우리나라 만세 \n",
    "무궁화 삼천리 화려 강산 \n",
    "대한사람 대한으로 길이 보전하세\"\"\")"
   ]
  },
  {
   "cell_type": "code",
   "execution_count": 26,
   "id": "08434d3c",
   "metadata": {},
   "outputs": [
    {
     "name": "stdout",
     "output_type": "stream",
     "text": [
      "나는\n",
      "파이썬을\n",
      "배우고\n",
      "있어요\n",
      "너무\n",
      "쉬워요\n"
     ]
    }
   ],
   "source": [
    "str3 = \"\"\"나는\n",
    "파이썬을\n",
    "배우고\n",
    "있어요\n",
    "너무\n",
    "쉬워요\"\"\"\n",
    "\n",
    "print(str3)"
   ]
  },
  {
   "cell_type": "code",
   "execution_count": 36,
   "id": "80b865bc",
   "metadata": {},
   "outputs": [
    {
     "name": "stdout",
     "output_type": "stream",
     "text": [
      "개인정보 : 나이는 25\n",
      "개인정보 : 이름은 홍길동입니다\n",
      "개인정보 : 주소는 대전시 서구 둔산동 123번길 입니다\n"
     ]
    }
   ],
   "source": [
    "# 문자열 덧셈\n",
    "age = 25\n",
    "name = \"홍길동\"\n",
    "address = \"대전시 서구 둔산동 123\"\n",
    "\n",
    "print('개인정보 : 나이는',age)\n",
    "print('개인정보 : 이름은 ' + name + '입니다')\n",
    "print('개인정보 : 주소는 ' + address + '번길 입니다')"
   ]
  },
  {
   "cell_type": "code",
   "execution_count": 45,
   "id": "268e9da9",
   "metadata": {},
   "outputs": [
    {
     "name": "stdout",
     "output_type": "stream",
     "text": [
      "원하는 갯수?5\n",
      "안녕 친구야 안녕 친구야 안녕 친구야 \n",
      "♬♬♬♬♬\n"
     ]
    }
   ],
   "source": [
    "# 문자열  곱셈\n",
    "str4 = \"안녕 친구야 \" * 3\n",
    "num = input('원하는 갯수?')\n",
    "num = int(num)\n",
    "str5 = \"♬\" * num\n",
    "\n",
    "print(str4)\n",
    "print(str5)"
   ]
  },
  {
   "cell_type": "code",
   "execution_count": 56,
   "id": "5ace6b58",
   "metadata": {},
   "outputs": [
    {
     "name": "stdout",
     "output_type": "stream",
     "text": [
      "안녕 \n",
      "친\n",
      "안녕 친\n",
      "친구야?\n"
     ]
    }
   ],
   "source": [
    "# 문자배열 연산자 [x]\n",
    "# x번째 값을 출력\n",
    "\n",
    "print(\"안녕 친구야?\"[0:3])\n",
    "print(\"안녕 친구야?\"[3])\n",
    "print(\"안녕 친구야?\"[0:4])\n",
    "print(\"안녕 친구야?\"[3:])"
   ]
  },
  {
   "cell_type": "code",
   "execution_count": 60,
   "id": "3d74fc3e",
   "metadata": {},
   "outputs": [
    {
     "name": "stdout",
     "output_type": "stream",
     "text": [
      "문자열의 길이는 : 9\n"
     ]
    }
   ],
   "source": [
    "# 문자열 길이 구하는 함수\n",
    "# len(lengh) : 문자열의 길이를 반환\n",
    "str5 = \"안녕하세요 파이썬\"\n",
    "print('문자열의 길이는 :',len(str5))"
   ]
  },
  {
   "cell_type": "code",
   "execution_count": 67,
   "id": "4b684183",
   "metadata": {},
   "outputs": [
    {
     "name": "stdout",
     "output_type": "stream",
     "text": [
      "아이디를 입력하세요(8~20자이내) : wwdwdw\n",
      "당신이 입력한 아이디 : wwdwdw\n",
      "당신이 입력한 아이디는  6 자 입니다\n"
     ]
    }
   ],
   "source": [
    "# 키보드로 아이디를 입력받아서 \n",
    "# 사용자가 입력한 아이디의 길이를 출력하세요\n",
    "id = input('아이디를 입력하세요(8~20자이내) : ')\n",
    "number_of_id = len(id)\n",
    "print('당신이 입력한 아이디 :',id)\n",
    "print('당신이 입력한 아이디는 ',number_of_id,'자 입니다')"
   ]
  },
  {
   "cell_type": "code",
   "execution_count": 68,
   "id": "40922081",
   "metadata": {},
   "outputs": [
    {
     "data": {
      "text/plain": [
       "str"
      ]
     },
     "execution_count": 68,
     "metadata": {},
     "output_type": "execute_result"
    }
   ],
   "source": []
  }
 ],
 "metadata": {
  "kernelspec": {
   "display_name": "Python 3 (ipykernel)",
   "language": "python",
   "name": "python3"
  },
  "language_info": {
   "codemirror_mode": {
    "name": "ipython",
    "version": 3
   },
   "file_extension": ".py",
   "mimetype": "text/x-python",
   "name": "python",
   "nbconvert_exporter": "python",
   "pygments_lexer": "ipython3",
   "version": "3.9.13"
  }
 },
 "nbformat": 4,
 "nbformat_minor": 5
}
