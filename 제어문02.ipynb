{
 "cells": [
  {
   "cell_type": "code",
   "execution_count": 14,
   "id": "14e46fdf",
   "metadata": {},
   "outputs": [
    {
     "name": "stdout",
     "output_type": "stream",
     "text": [
      "정수를 입력하세요 : 3\n",
      "여기는 even Number2.\n",
      "홀수입니다.\n",
      "odd Number.\n"
     ]
    }
   ],
   "source": [
    "# 키보드로 정수를 입력받아서 홀수 짝수를 구분하여 출력하세요.\n",
    "# 나머지 연산자 사용하고, 나머지가 0이면 짝수 0이 아니면 홀수\n",
    "\n",
    "num = input('정수를 입력하세요 : ')\n",
    "num = int(num) # 정수로 변환\n",
    "\n",
    "# 데이터 처리\n",
    "# 나머지 연산과 비교 연산으로 짝수/홀수 구분\n",
    "# 1. 나머지 구하기\n",
    "result = num % 2\n",
    "\n",
    "# 비교 처리 후 결과 출력\n",
    "if(result == 0):\n",
    "    print('짝수입니다.')\n",
    "    print('even Number.')\n",
    "\n",
    "    print('여기는 even Number.')\n",
    "print('여기는 even Number2.')\n",
    "    \n",
    "if(result != 0):\n",
    "    print('홀수입니다.')\n",
    "    print('odd Number.')\n",
    "    "
   ]
  },
  {
   "cell_type": "code",
   "execution_count": 11,
   "id": "443d80f1",
   "metadata": {},
   "outputs": [
    {
     "name": "stdout",
     "output_type": "stream",
     "text": [
      "정수를 입력하세요 : 3\n",
      "3 는 홀수입니다.\n"
     ]
    }
   ],
   "source": [
    "# 키보드로 정수를 입력받아서 홀수 짝수를 구분하여 출력하세요.\n",
    "# 나머지 연산자 사용하고, 나머지가 0이면 짝수 0이 아니면 홀수\n",
    "\n",
    "num = input('정수를 입력하세요 : ')\n",
    "num = int(num) # 정수로 변환\n",
    "\n",
    "# 데이터 처리\n",
    "# 나머지 연산과 비교 연산으로 짝수/홀수 구분\n",
    "# 1. 나머지 구하기\n",
    "result = num % 2\n",
    "\n",
    "# 비교 처리\n",
    "if(result == 0):\n",
    "    #결과변수로 처리\n",
    "    result2 = '짝수'\n",
    "    \n",
    "if(result != 0):\n",
    "    #결과변수로 처리\n",
    "    result2 = '홀수'\n",
    "\n",
    "result3 = '는 ' + result2 + '입니다.'\n",
    "\n",
    "# 결과 출력\n",
    "print(num, result3)"
   ]
  },
  {
   "cell_type": "code",
   "execution_count": 27,
   "id": "e6b12bcf",
   "metadata": {},
   "outputs": [
    {
     "name": "stdout",
     "output_type": "stream",
     "text": [
      "정수를 입력하세요 : 6\n",
      "6 는 짝수입니다.\n"
     ]
    }
   ],
   "source": [
    "# 키보드로 정수를 입력받아서 홀수 짝수를 구분하여 출력하세요.\n",
    "# 나머지 연산자 사용하고, 나머지가 0이면 짝수 0이 아니면 홀수\n",
    "\n",
    "num = input('정수를 입력하세요 : ')\n",
    "num = int(num) # 정수로 변환\n",
    "\n",
    "# 데이터 처리\n",
    "# 나머지 연산과 비교 연산으로 짝수/홀수 구분\n",
    "# 1. 나머지 구하기\n",
    "result = num % 2\n",
    "\n",
    "result2 = '짝수' # 변수값을 초기화\n",
    "\n",
    "# 비교 처리\n",
    "if(result != 0):\n",
    "    #결과변수로 처리\n",
    "    result2 = '홀수'\n",
    "\n",
    "result3 = '는 ' + result2 + '입니다.'\n",
    "\n",
    "# 결과 출력\n",
    "print(num, result3)"
   ]
  },
  {
   "cell_type": "code",
   "execution_count": 49,
   "id": "d65a7823",
   "metadata": {},
   "outputs": [
    {
     "name": "stdout",
     "output_type": "stream",
     "text": [
      "나이는? 20\n",
      "당신은 성년입니다.\n"
     ]
    }
   ],
   "source": [
    "# 나이를 입력받아서 성년/미성년인지를 구분하시오.\n",
    "# 성년은 20세 이상으로 한다.\n",
    "# 키보드로 나이를 입력받아서 처리한다.\n",
    "# 결과는 성년과 미성년으로 출력한다.\n",
    "\n",
    "age = input('나이는? ')\n",
    "\n",
    "result = '성년'\n",
    "\n",
    "if(int(age) < 20):\n",
    "    result = '미성년'\n",
    "\n",
    "print('당신은 ' + result + '입니다.')"
   ]
  },
  {
   "cell_type": "code",
   "execution_count": 9,
   "id": "cd4abaae",
   "metadata": {},
   "outputs": [
    {
     "name": "stdout",
     "output_type": "stream",
     "text": [
      "나이는? 45\n",
      "남자 : 1, 여자 : 2 를 입력하세요 1\n",
      "당신은 성년입니다.\n",
      "당신의 누적포인트는 550 입니다.\n"
     ]
    }
   ],
   "source": [
    "## 나이를 입력받아서 성년/미성년인지를 구분하시오.\n",
    "# 성년은 20세 이상으로 한다.\n",
    "\n",
    "# 성년이고 여성이면 포인트 점수를 100점 부여\n",
    "# 성년이고 남성이면 포인트 점수를 50점 부여\n",
    "# 기본 포인트는 500점으로 한다.\n",
    "\n",
    "# 키보드로 나이를 입력받아서 처리한다.\n",
    "# 결과는 성년과 미성년으로 출력한다.\n",
    "\n",
    "age = input('나이는? ')\n",
    "age = int(age)\n",
    "\n",
    "gender = input('남자 : 1, 여자 : 2 를 입력하세요 ')\n",
    "\n",
    "result = '미성년'\n",
    "\n",
    "point = 500 # 기본값\n",
    "\n",
    "# if(age >= 20 and gender == '1'):\n",
    "#     result = '성년'\n",
    "#     point += 50\n",
    "\n",
    "if(age >= 20):\n",
    "    result = '성년'\n",
    "    if(gender == '1'):\n",
    "        point += 50\n",
    "    \n",
    "if(age >= 20 and gender == '2'):\n",
    "    result = '성년'\n",
    "    point += 100\n",
    "    \n",
    "print('당신은 ' + result + '입니다.')\n",
    "print('당신의 누적포인트는', point, '입니다.')"
   ]
  },
  {
   "cell_type": "code",
   "execution_count": null,
   "id": "8dfac8c3",
   "metadata": {},
   "outputs": [],
   "source": []
  }
 ],
 "metadata": {
  "kernelspec": {
   "display_name": "Python 3 (ipykernel)",
   "language": "python",
   "name": "python3"
  },
  "language_info": {
   "codemirror_mode": {
    "name": "ipython",
    "version": 3
   },
   "file_extension": ".py",
   "mimetype": "text/x-python",
   "name": "python",
   "nbconvert_exporter": "python",
   "pygments_lexer": "ipython3",
   "version": "3.9.13"
  }
 },
 "nbformat": 4,
 "nbformat_minor": 5
}
