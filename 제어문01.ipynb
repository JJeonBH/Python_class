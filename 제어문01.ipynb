{
 "cells": [
  {
   "cell_type": "code",
   "execution_count": 63,
   "id": "1838a5d0",
   "metadata": {},
   "outputs": [
    {
     "name": "stdout",
     "output_type": "stream",
     "text": [
      "True\n",
      "True\n",
      "False\n"
     ]
    }
   ],
   "source": [
    "# 불(boolean) 자료형\n",
    "# 논리적인 상태 0, 1을 다루는 경우에 사용함\n",
    "# 데이터 값이 언제나 2개인 경우에 사용\n",
    "gender = True # 남자\n",
    "gender = '남자'\n",
    "\n",
    "# 비교연산자 ==, !=, >, >=, <, <=\n",
    "result = 10 != 100\n",
    "print(result)\n",
    "\n",
    "result = 10 == 10\n",
    "print(result)\n",
    "\n",
    "result = 10 > 10\n",
    "print(result)"
   ]
  },
  {
   "cell_type": "code",
   "execution_count": 66,
   "id": "e00a4b1f",
   "metadata": {},
   "outputs": [
    {
     "name": "stdout",
     "output_type": "stream",
     "text": [
      "True\n",
      "False\n",
      "True\n",
      "False\n"
     ]
    }
   ],
   "source": [
    "# 논리연산자\n",
    "# AND OR NOT\n",
    "\n",
    "a=10\n",
    "b=20\n",
    "c=15\n",
    "\n",
    "result = (a < b) and (a < c)\n",
    "print(result)\n",
    "\n",
    "result = (a < b) and (a > c)\n",
    "print(result)\n",
    "\n",
    "result = (a < b) or (a > c)\n",
    "print(result)\n",
    "\n",
    "result = not(a < b)\n",
    "print(result)"
   ]
  },
  {
   "cell_type": "code",
   "execution_count": 41,
   "id": "8960d648",
   "metadata": {},
   "outputs": [
    {
     "name": "stdout",
     "output_type": "stream",
     "text": [
      "정수를 입력하세요 : 3\n",
      "3 는 양수입니다.\n",
      "3 는  양수 입니다.\n"
     ]
    }
   ],
   "source": [
    "# if문\n",
    "# if 조건문: 문장(참인 경우에 실행되는 문장)\n",
    "# 키보드로 정수를 입력하여 정수가 양수인지 음수인지 0인지를 판별\n",
    "\n",
    "# 데이터 입력(정수) 키보드로 입력\n",
    "num = input('정수를 입력하세요 : ')\n",
    "\n",
    "# 키보드 입력은 문자이므로 정수로 변환해야 한다.\n",
    "num = int(num)\n",
    "\n",
    "# 데이터 처리(비교)와 그 결과를 출력\n",
    "if (num > 0):\n",
    "    result = '양수'\n",
    "#     print(num, '는 양수입니다.')\n",
    "    \n",
    "if (num < 0):\n",
    "    result = '음수'\n",
    "#     print(num, '는 음수입니다.')\n",
    "    \n",
    "if (num == 0):\n",
    "    result = '0'\n",
    "#     print(num, '는 0입니다.')\n",
    "\n",
    "print(num, '는 ' + result + '입니다.')\n",
    "print(num, '는 ', result, '입니다.')"
   ]
  },
  {
   "cell_type": "code",
   "execution_count": 58,
   "id": "ab04ff47",
   "metadata": {},
   "outputs": [
    {
     "name": "stdout",
     "output_type": "stream",
     "text": [
      "정수를 입력하세요 : 3\n",
      "홀수입니다.\n"
     ]
    }
   ],
   "source": [
    "# 키보드로 정수를 입력받아서 홀수 짝수를 구분하여 출력하세요.\n",
    "# 나머지 연산자 사용하고, 나머지가 0이면 짝수 0이 아니면 홀수\n",
    "\n",
    "num = input('정수를 입력하세요 : ')\n",
    "num = int(num) # 정수로 변환\n",
    "\n",
    "# 데이터 처리\n",
    "# 나머지 연산과 비교 연산으로 짝수/홀수 구분\n",
    "# 1. 나머지 구하기\n",
    "result = num % 2\n",
    "\n",
    "# 비교 처리 후 결과 출력\n",
    "if(result == 0):\n",
    "    print('짝수입니다.')\n",
    "\n",
    "if(result != 0):\n",
    "    print('홀수입니다.')"
   ]
  },
  {
   "cell_type": "code",
   "execution_count": null,
   "id": "4416c8c1",
   "metadata": {},
   "outputs": [],
   "source": []
  }
 ],
 "metadata": {
  "kernelspec": {
   "display_name": "Python 3 (ipykernel)",
   "language": "python",
   "name": "python3"
  },
  "language_info": {
   "codemirror_mode": {
    "name": "ipython",
    "version": 3
   },
   "file_extension": ".py",
   "mimetype": "text/x-python",
   "name": "python",
   "nbconvert_exporter": "python",
   "pygments_lexer": "ipython3",
   "version": "3.9.13"
  }
 },
 "nbformat": 4,
 "nbformat_minor": 5
}
