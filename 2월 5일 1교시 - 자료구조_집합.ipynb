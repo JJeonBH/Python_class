{
 "cells": [
  {
   "cell_type": "code",
   "execution_count": 30,
   "id": "a5bd34c2",
   "metadata": {},
   "outputs": [
    {
     "name": "stdout",
     "output_type": "stream",
     "text": [
      "is\n",
      "is\n"
     ]
    }
   ],
   "source": [
    "# 리스트 이중구조\n",
    "\n",
    "item = [1, 2, ['Life', 'is'], 3, 4]\n",
    "\n",
    "item02 = item[2]\n",
    "\n",
    "print(item02[1])\n",
    "\n",
    "print(item[2][1])"
   ]
  },
  {
   "cell_type": "code",
   "execution_count": 35,
   "id": "a652c0d1",
   "metadata": {},
   "outputs": [
    {
     "name": "stdout",
     "output_type": "stream",
     "text": [
      "apple\n",
      "apple\n"
     ]
    }
   ],
   "source": [
    "item = [1, 2, ['Life', ['is', 'apple'], 3], 4]\n",
    "\n",
    "a = item[2]\n",
    "b = a[1]\n",
    "b[1]\n",
    "\n",
    "print(b[1])\n",
    "\n",
    "print(item[2][1][1])"
   ]
  },
  {
   "cell_type": "code",
   "execution_count": 50,
   "id": "fc15c8df",
   "metadata": {},
   "outputs": [
    {
     "name": "stdout",
     "output_type": "stream",
     "text": [
      "{1, 2, 3}\n",
      "{'o', 'l', 'e', 'H'}\n",
      "{1, 2, 3}\n"
     ]
    }
   ],
   "source": [
    "# set(집합) : 중복된 데이터를 허용하지 않는다.\n",
    "# 중복된 값을 요소로 갖고 있지 않는다.\n",
    "\n",
    "s1 = set([1, 2, 3])\n",
    "print(s1)\n",
    "\n",
    "s2 = set(\"Hello\")\n",
    "print(s2)\n",
    "\n",
    "s3 = set([1, 2, 3, 3, 3, 3, 3])\n",
    "print(s3)"
   ]
  },
  {
   "cell_type": "code",
   "execution_count": 51,
   "id": "2683c30c",
   "metadata": {},
   "outputs": [
    {
     "data": {
      "text/plain": [
       "(1, 2, 3)"
      ]
     },
     "execution_count": 51,
     "metadata": {},
     "output_type": "execute_result"
    }
   ],
   "source": [
    "# 리스트에 중복값을 제거(집합으로)하여 다른 리스트로 복사\n",
    "\n",
    "s4 = set([1, 2, 3, 3]) # 중복 제거, 리스트를 집합으로 변환\n",
    "\n",
    "list01 = list(s4) # 집합을 리스트로 변환\n",
    "\n",
    "t1 = tuple(list01) # 수정할 수 없는 자료구조 튜플로 변환\n",
    "\n",
    "t1"
   ]
  },
  {
   "cell_type": "code",
   "execution_count": 61,
   "id": "cff97226",
   "metadata": {},
   "outputs": [
    {
     "name": "stdout",
     "output_type": "stream",
     "text": [
      "{4, 5, 6}\n",
      "{4, 5, 6}\n",
      "{4, 5, 6}\n",
      "{1, 2, 3, 4, 5, 6, 7, 8, 9}\n",
      "{1, 2, 3, 4, 5, 6, 7, 8, 9}\n",
      "{1, 2, 3, 4, 5, 6, 7, 8, 9}\n",
      "{1, 2, 3}\n",
      "{8, 9, 7}\n",
      "{1, 2, 3}\n",
      "{8, 9, 7}\n"
     ]
    }
   ],
   "source": [
    "s1 = set([1, 2, 3, 4, 5, 6])\n",
    "s2 = set([4, 5, 6, 7, 8, 9])\n",
    "\n",
    "# 교집합\n",
    "print(s1 & s2)\n",
    "print(s1.intersection(s2))\n",
    "print(s2.intersection(s1))\n",
    "\n",
    "# 합집합\n",
    "print(s1 | s2)\n",
    "print(s1.union(s2))\n",
    "print(s2.union(s1))\n",
    "\n",
    "# 차집합\n",
    "print(s1 - s2)\n",
    "print(s2 - s1)\n",
    "print(s1.difference(s2))\n",
    "print(s2.difference(s1))"
   ]
  }
 ],
 "metadata": {
  "kernelspec": {
   "display_name": "Python 3 (ipykernel)",
   "language": "python",
   "name": "python3"
  },
  "language_info": {
   "codemirror_mode": {
    "name": "ipython",
    "version": 3
   },
   "file_extension": ".py",
   "mimetype": "text/x-python",
   "name": "python",
   "nbconvert_exporter": "python",
   "pygments_lexer": "ipython3",
   "version": "3.9.13"
  }
 },
 "nbformat": 4,
 "nbformat_minor": 5
}
