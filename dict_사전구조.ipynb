{
 "cells": [
  {
   "cell_type": "code",
   "execution_count": 18,
   "id": "646515ac",
   "metadata": {},
   "outputs": [
    {
     "name": "stdout",
     "output_type": "stream",
     "text": [
      "{'name': '홍길동', '학교': '충남대', '전공': '영문학', '성적': [90, 80, 78, 95]}\n"
     ]
    }
   ],
   "source": [
    "# dictionary 구조\n",
    "# 검색이 가능한 데이터 구조\n",
    "# 사물, 객체를 표현할 때 사용이 됨\n",
    "\n",
    "# 학생을 표현\n",
    "student = {\n",
    "    \"name\" : \"홍길동\", \"학교\" : \"충남대\", \"전공\" : \"영문학\",\n",
    "    \"성적\" : [90, 80, 78, 95]\n",
    "}\n",
    "\n",
    "# 학생정보 출력\n",
    "print(student)"
   ]
  },
  {
   "cell_type": "code",
   "execution_count": 24,
   "id": "00ea1ea6",
   "metadata": {},
   "outputs": [
    {
     "name": "stdout",
     "output_type": "stream",
     "text": [
      "충남대\n",
      "[90, 80, 78, 95]\n"
     ]
    }
   ],
   "source": [
    "# 딕셔너리 값을 출력\n",
    "# 키값을 사용하여 값을 출력\n",
    "\n",
    "print(student[\"학교\"])\n",
    "print(student[\"성적\"])"
   ]
  },
  {
   "cell_type": "code",
   "execution_count": 32,
   "id": "ca8d3a13",
   "metadata": {},
   "outputs": [
    {
     "name": "stdout",
     "output_type": "stream",
     "text": [
      "90\n",
      "90\n"
     ]
    }
   ],
   "source": [
    "# 딕셔너리 값을 출력\n",
    "# 키값을 사용하여 값을 출력\n",
    "# 홍길동의 1학년 성적을 출력\n",
    "\n",
    "grade = student[\"성적\"]\n",
    "print(grade[0])\n",
    "\n",
    "print(student[\"성적\"][0])"
   ]
  }
 ],
 "metadata": {
  "kernelspec": {
   "display_name": "Python 3 (ipykernel)",
   "language": "python",
   "name": "python3"
  },
  "language_info": {
   "codemirror_mode": {
    "name": "ipython",
    "version": 3
   },
   "file_extension": ".py",
   "mimetype": "text/x-python",
   "name": "python",
   "nbconvert_exporter": "python",
   "pygments_lexer": "ipython3",
   "version": "3.9.13"
  }
 },
 "nbformat": 4,
 "nbformat_minor": 5
}
