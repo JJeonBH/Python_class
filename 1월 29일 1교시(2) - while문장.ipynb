{
 "cells": [
  {
   "cell_type": "code",
   "execution_count": 4,
   "id": "f65dc5c5",
   "metadata": {},
   "outputs": [
    {
     "name": "stdout",
     "output_type": "stream",
     "text": [
      "현재 몸무게 : 90\n",
      "현재 몸무게 : 89\n",
      "현재 몸무게 : 88\n",
      "현재 몸무게 : 87\n",
      "현재 몸무게 : 86\n",
      "현재 몸무게 : 85\n",
      "현재 몸무게 : 84\n",
      "현재 몸무게 : 83\n",
      "현재 몸무게 : 82\n",
      "현재 몸무게 : 81\n",
      "다이어트 후 : 80\n"
     ]
    }
   ],
   "source": [
    "# while 문\n",
    "# 반복횟수가 조건에 의해서 결정되는 반복문\n",
    "\n",
    "weight = 90\n",
    "\n",
    "while weight > 80:\n",
    "    print('현재 몸무게 :', weight)\n",
    "    weight = weight - 1\n",
    "    \n",
    "print('다이어트 후 :', weight)"
   ]
  },
  {
   "cell_type": "code",
   "execution_count": 6,
   "id": "bbaedc2a",
   "metadata": {},
   "outputs": [
    {
     "name": "stdout",
     "output_type": "stream",
     "text": [
      "i : 0\n",
      "i : 1\n",
      "i : 2\n",
      "i : 3\n",
      "i : 4\n",
      "i : 5\n",
      "i : 6\n",
      "i : 7\n",
      "i : 8\n",
      "i : 9\n",
      "총합 : 55\n"
     ]
    }
   ],
   "source": [
    "# while 문\n",
    "# 반복횟수가 조건에 의해서 결정되는 반복문\n",
    "# 1부터 10까지의 합을 구하시오\n",
    "\n",
    "i = 0\n",
    "sum = 0\n",
    "while i < 10 :\n",
    "    print('i :', i)\n",
    "    i = i + 1\n",
    "    sum = sum + i\n",
    "    \n",
    "print('총합 :', sum)"
   ]
  },
  {
   "cell_type": "code",
   "execution_count": 25,
   "id": "4c16ea5e",
   "metadata": {},
   "outputs": [
    {
     "name": "stdout",
     "output_type": "stream",
     "text": [
      "*\n",
      "*\n",
      "*\n",
      "*\n",
      "*\n",
      "*\n",
      "*\n",
      "*\n",
      "*\n",
      "*\n",
      "*\n",
      "반복문 탈출 : 10\n"
     ]
    }
   ],
   "source": [
    "# 무한반복\n",
    "count = 0\n",
    "while True:\n",
    "    print('*')\n",
    "    if count >= 10:\n",
    "        break\n",
    "    count = count + 1\n",
    "    \n",
    "print('반복문 탈출 :', count)"
   ]
  },
  {
   "cell_type": "code",
   "execution_count": 12,
   "id": "53966f0f",
   "metadata": {},
   "outputs": [
    {
     "name": "stdout",
     "output_type": "stream",
     "text": [
      "[1, 2, 2, 1, 2, 3, 2]\n",
      "[1, 2, 1, 2, 3, 2]\n",
      "[1, 1, 2, 3, 2]\n",
      "[1, 1, 3, 2]\n",
      "[1, 1, 3]\n"
     ]
    }
   ],
   "source": [
    "box = [1, 2, 2, 1, 2, 3, 2]\n",
    "item = 2\n",
    "while item in box:\n",
    "    print(box)\n",
    "    box.remove(item)\n",
    "    \n",
    "print(box)"
   ]
  },
  {
   "cell_type": "code",
   "execution_count": 20,
   "id": "45963ba8",
   "metadata": {},
   "outputs": [
    {
     "name": "stdout",
     "output_type": "stream",
     "text": [
      "시작 전 시간 : 1674959883.3761213\n",
      "종료 후 시간 : 1674959888.39019\n",
      "반복횟수 : 58080719\n"
     ]
    }
   ],
   "source": [
    "# 시간 함수를 응용한 문제\n",
    "# time과 while문을 사용\n",
    "\n",
    "import time\n",
    "\n",
    "number = 0\n",
    "target_tick = time.time() + 5 # 현재시간 기준으로 5초 이후\n",
    "print('시작 전 시간 :', time.time())\n",
    "\n",
    "while time.time() < target_tick:\n",
    "    number = number + 1\n",
    "\n",
    "print('종료 후 시간 :', time.time())\n",
    "print('반복횟수 :', number)"
   ]
  },
  {
   "cell_type": "code",
   "execution_count": 28,
   "id": "153c5c57",
   "metadata": {},
   "outputs": [
    {
     "name": "stdout",
     "output_type": "stream",
     "text": [
      "*\n",
      "종료할까요? y/n n\n",
      "*\n",
      "종료할까요? y/n n\n",
      "*\n",
      "종료할까요? y/n y\n",
      "루프를 빠져나왔습니다\n"
     ]
    }
   ],
   "source": [
    "# break 문\n",
    "# 반복문의 루프를 빠져나온다.\n",
    "\n",
    "while True:\n",
    "    print('*')\n",
    "    answer = input('종료할까요? y/n ')\n",
    "    if answer == 'y':\n",
    "        break\n",
    "        \n",
    "print('루프를 빠져나왔습니다')"
   ]
  },
  {
   "cell_type": "code",
   "execution_count": 29,
   "id": "215916a3",
   "metadata": {},
   "outputs": [
    {
     "name": "stdout",
     "output_type": "stream",
     "text": [
      "14\n",
      "20\n",
      "34\n",
      "22\n",
      "10\n"
     ]
    }
   ],
   "source": [
    "# continue\n",
    "# 반복문의 루프의 시작위치로 제어를 이동\n",
    "\n",
    "box = [5, 14, 20, 9, 34, 8, 22, 10]\n",
    "\n",
    "for number in box:\n",
    "    if number < 10:\n",
    "        continue\n",
    "    print(number)"
   ]
  }
 ],
 "metadata": {
  "kernelspec": {
   "display_name": "Python 3 (ipykernel)",
   "language": "python",
   "name": "python3"
  },
  "language_info": {
   "codemirror_mode": {
    "name": "ipython",
    "version": 3
   },
   "file_extension": ".py",
   "mimetype": "text/x-python",
   "name": "python",
   "nbconvert_exporter": "python",
   "pygments_lexer": "ipython3",
   "version": "3.9.13"
  }
 },
 "nbformat": 4,
 "nbformat_minor": 5
}
