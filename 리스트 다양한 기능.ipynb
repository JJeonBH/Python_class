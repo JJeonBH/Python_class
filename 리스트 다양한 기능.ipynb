{
 "cells": [
  {
   "cell_type": "code",
   "execution_count": 9,
   "id": "ddfc95da",
   "metadata": {},
   "outputs": [
    {
     "name": "stdout",
     "output_type": "stream",
     "text": [
      "[1, 2, 3, 4, 'A']\n",
      "[1, 10, 2, 3, 4, 'A']\n",
      "[1, 20, 10, 2, 3, 4, 'A']\n",
      "[1, 20, 10, 2, 3, 4, 'A', 4, 5, 6, 7, 8]\n"
     ]
    }
   ],
   "source": [
    "# 리스트의 다양한 기능\n",
    "# 리스트에 추가, 정렬, 삭제, 수정\n",
    "\n",
    "list_a = [1, 2, 3]\n",
    "\n",
    "# 리스트에 추가\n",
    "list_a.append(4)\n",
    "list_a.append('A')\n",
    "print(list_a)\n",
    "\n",
    "# 리스트 중간에 추가(삽입)\n",
    "list_a.insert(1, 10)\n",
    "print(list_a)\n",
    "list_a.insert(1, 20)\n",
    "print(list_a)\n",
    "\n",
    "# 한꺼번에 여러개의 값을 추가\n",
    "list_a.extend([4, 5, 6, 7, 8])\n",
    "print(list_a)"
   ]
  },
  {
   "cell_type": "code",
   "execution_count": 23,
   "id": "f59e3ac7",
   "metadata": {},
   "outputs": [
    {
     "name": "stdout",
     "output_type": "stream",
     "text": [
      "[0, 1, 2, 3, 4, 5]\n",
      "[0, 3, 4, 5]\n",
      "[0, 3, 4]\n",
      "[0, 4]\n"
     ]
    }
   ],
   "source": [
    "# 리스트 삭제\n",
    "list_b = [0, 1, 2, 3, 4, 5]\n",
    "print(list_b)\n",
    "del list_b[1:3]\n",
    "print(list_b)\n",
    "\n",
    "# pop 리스트 전용함수(메서드)\n",
    "list_b.pop()\n",
    "print(list_b)\n",
    "list_b.pop(1)\n",
    "print(list_b)"
   ]
  },
  {
   "cell_type": "code",
   "execution_count": 33,
   "id": "657fefda",
   "metadata": {},
   "outputs": [
    {
     "name": "stdout",
     "output_type": "stream",
     "text": [
      "[1, 3, 1, 1, 1]\n"
     ]
    }
   ],
   "source": [
    "list_c = [1, 2, 3, 2, 'A', 1, 1, 1]\n",
    "# 값을 기준으로 삭제\n",
    "list_c.remove(2)\n",
    "list_c.remove(2)\n",
    "item = 'A'\n",
    "list_c.remove(item)\n",
    "\n",
    "print(list_c)"
   ]
  },
  {
   "cell_type": "code",
   "execution_count": 36,
   "id": "c46a6b8a",
   "metadata": {},
   "outputs": [
    {
     "name": "stdout",
     "output_type": "stream",
     "text": [
      "[]\n",
      "[7, 8]\n"
     ]
    }
   ],
   "source": [
    "list_d = [1, 2, 3, 2, 'A', 1, 1, 1]\n",
    "# 리스트의 모든 값을 삭제\n",
    "list_d.clear()\n",
    "print(list_d)\n",
    "list_d.append(7)\n",
    "list_d.append(8)\n",
    "print(list_d)"
   ]
  },
  {
   "cell_type": "code",
   "execution_count": 43,
   "id": "7e95fa6a",
   "metadata": {},
   "outputs": [
    {
     "name": "stdout",
     "output_type": "stream",
     "text": [
      "리스트에 값이 있는가? 있다\n"
     ]
    }
   ],
   "source": [
    "# 리스트 내부에  값이 있는지 없는지를 알아내기\n",
    "list_e = [273, 30, 20, 55, 66]\n",
    "exist = '없다'\n",
    "\n",
    "if (20 in list_e):\n",
    "    exist = '있다'\n",
    "    \n",
    "print('리스트에 값이 있는가?', exist)"
   ]
  }
 ],
 "metadata": {
  "kernelspec": {
   "display_name": "Python 3 (ipykernel)",
   "language": "python",
   "name": "python3"
  },
  "language_info": {
   "codemirror_mode": {
    "name": "ipython",
    "version": 3
   },
   "file_extension": ".py",
   "mimetype": "text/x-python",
   "name": "python",
   "nbconvert_exporter": "python",
   "pygments_lexer": "ipython3",
   "version": "3.9.13"
  }
 },
 "nbformat": 4,
 "nbformat_minor": 5
}
