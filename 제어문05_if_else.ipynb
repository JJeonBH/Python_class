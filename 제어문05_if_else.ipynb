{
 "cells": [
  {
   "cell_type": "code",
   "execution_count": 5,
   "id": "1f2abc08",
   "metadata": {},
   "outputs": [
    {
     "name": "stdout",
     "output_type": "stream",
     "text": [
      "홀수입니다.\n"
     ]
    }
   ],
   "source": [
    "# 어떤 숫자가 짝수인지 홀수인지 구분하시오.\n",
    "\n",
    "# 데이터 입력\n",
    "num = 37\n",
    "\n",
    "# 데이터 처리(if:짝/홀 수 구분)\n",
    "if num%2 == 0:\n",
    "    print(\"짝수입니다.\")\n",
    "else:\n",
    "    print(\"홀수입니다.\")"
   ]
  },
  {
   "cell_type": "code",
   "execution_count": 7,
   "id": "416a81c0",
   "metadata": {},
   "outputs": [
    {
     "name": "stdout",
     "output_type": "stream",
     "text": [
      "성년\n"
     ]
    }
   ],
   "source": [
    "# 숫자가 20세 미만이면 미성년으로 출력하고\n",
    "# 그 이외는 성년으로 출력하시오.\n",
    "\n",
    "num = 34\n",
    "\n",
    "if num < 20:\n",
    "    print(\"미성년\")\n",
    "else:\n",
    "    print(\"성년\")"
   ]
  },
  {
   "cell_type": "code",
   "execution_count": 28,
   "id": "360151be",
   "metadata": {},
   "outputs": [
    {
     "name": "stdout",
     "output_type": "stream",
     "text": [
      "나이를 입력하세요 : 43\n",
      "장년입니다.\n"
     ]
    }
   ],
   "source": [
    "# if ~ elseif ~ else\n",
    "# 다중 조건 처리 : 여러가지 조건이 있는 경우\n",
    "# \n",
    "# 연령별 처리\n",
    "# 나이를 입력받아서 나이에 따라 청소년 : 0~19\n",
    "# 청년 : 20~40\n",
    "# 장년 : 41~59\n",
    "# 노년 : 60~\n",
    "\n",
    "age = input('나이를 입력하세요 : ')\n",
    "age = int(age)\n",
    "\n",
    "if age <= 19:\n",
    "    print('청소년입니다.')\n",
    "elif 20 <= age <= 40:\n",
    "    print('청년입니다.')\n",
    "elif age > 40 and age < 60:\n",
    "    print('장년입니다.')\n",
    "else:\n",
    "    print('노년입니다.')"
   ]
  }
 ],
 "metadata": {
  "kernelspec": {
   "display_name": "Python 3 (ipykernel)",
   "language": "python",
   "name": "python3"
  },
  "language_info": {
   "codemirror_mode": {
    "name": "ipython",
    "version": 3
   },
   "file_extension": ".py",
   "mimetype": "text/x-python",
   "name": "python",
   "nbconvert_exporter": "python",
   "pygments_lexer": "ipython3",
   "version": "3.9.13"
  }
 },
 "nbformat": 4,
 "nbformat_minor": 5
}
