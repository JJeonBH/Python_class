{
 "cells": [
  {
   "cell_type": "code",
   "execution_count": 16,
   "id": "93a87a88",
   "metadata": {},
   "outputs": [
    {
     "name": "stdout",
     "output_type": "stream",
     "text": [
      " 정수 입력 : 21931239\n",
      "9\n",
      "홀수 입니다.\n"
     ]
    }
   ],
   "source": [
    "# 숫자를 키보드로 입력받아서 홀수 / 짝수를 구분하시오\n",
    "# 데이터 입력(키보드)\n",
    "number = input(\" 정수 입력 : \")\n",
    "\n",
    "# 키보드로 입력된 값은 언제나 문자다.\n",
    "# 따라서 원하는 데이터 형으로 변환작업을 수행한다.\n",
    "number = int(number)\n",
    "\n",
    "# 정수를 문자열로 변환\n",
    "number = str(number)\n",
    "\n",
    "# 마지막 자리 숫자 추출\n",
    "last_num = number[-1]\n",
    "print(last_num)\n",
    "# last_num = number[0:1]\n",
    "\n",
    "if(last_num == '0' or last_num == '2' or last_num == '4' or \\\n",
    "   last_num == '6' or last_num == '8'):\n",
    "    print(\"짝수 입니다.\")\n",
    "    \n",
    "if(last_num == '1' or last_num == '3' or last_num == '5' or \\\n",
    "   last_num == '7' or last_num == '9'):\n",
    "    print(\"홀수 입니다.\")"
   ]
  }
 ],
 "metadata": {
  "kernelspec": {
   "display_name": "Python 3 (ipykernel)",
   "language": "python",
   "name": "python3"
  },
  "language_info": {
   "codemirror_mode": {
    "name": "ipython",
    "version": 3
   },
   "file_extension": ".py",
   "mimetype": "text/x-python",
   "name": "python",
   "nbconvert_exporter": "python",
   "pygments_lexer": "ipython3",
   "version": "3.9.13"
  }
 },
 "nbformat": 4,
 "nbformat_minor": 5
}
