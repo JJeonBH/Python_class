{
 "cells": [
  {
   "cell_type": "code",
   "execution_count": 13,
   "id": "a5dda024",
   "metadata": {},
   "outputs": [
    {
     "name": "stdout",
     "output_type": "stream",
     "text": [
      "메뉴 : 커피(500원)[1], 콜라(300원)[2], 사이다(200원)[3]\n",
      "돈을 입력 : 700\n",
      "음료를 선택 1(커피), 2(콜라), 3(사이다) : 1\n",
      "커피 나왔어요 맛있게 드세요.\n",
      "잔돈 반환 : 200\n"
     ]
    }
   ],
   "source": [
    "# 음료 자판기 프로그램\n",
    "# 메뉴 : 커피(10), 콜라(5), 사이다(3)\n",
    "# 가격 : 커피(500원), 콜라(300원), 사이다(200원)\n",
    "# 판매 : 메뉴에 해당하는 돈을 받고\n",
    "#        상품가격과 돈이 맞는지 비교\n",
    "#         상품에 맞는 돈이면 상품 판매한다.(상품의 현재 수량을 -1)\n",
    "# in_money : 판매금액\n",
    "\n",
    "# 판매금액\n",
    "in_money = 0\n",
    "\n",
    "drink = {\"커피\" : 10, \"콜라\" : 5, \"사이다\" : 3}\n",
    "\n",
    "# 커피, 콜라, 사이다의 가격\n",
    "price = [500, 300, 200]\n",
    "\n",
    "# 화면에 자판기를 보여준다\n",
    "print(\"메뉴 : 커피(500원)[1], 콜라(300원)[2], 사이다(200원)[3]\")\n",
    "\n",
    "# 사용자로부터 돈을 입력 받는다\n",
    "money = int(input(\"돈을 입력 : \"))\n",
    "menu = input(\"음료를 선택 1(커피), 2(콜라), 3(사이다) : \")\n",
    "\n",
    "# 입력한 돈을 확인하여 상품을 판매할 수 있는지 결정\n",
    "\n",
    "if menu == \"1\":\n",
    "    if money >= price[0]:\n",
    "        in_money += price[0]\n",
    "        drink[\"커피\"] -= 1\n",
    "        print(\"커피 나왔어요 맛있게 드세요.\")\n",
    "        print(\"잔돈 반환 :\", money-price[0])\n",
    "    else:\n",
    "        print(\"돈이 모자랍니다.\")\n",
    "        \n",
    "if menu == \"2\":\n",
    "    if money >= price[1]:\n",
    "        in_money += price[1]\n",
    "        drink[\"콜라\"] -= 1\n",
    "        print(\"콜라 나왔어요 맛있게 드세요.\")\n",
    "        print(\"잔돈 반환 :\", money-price[1])\n",
    "    else:\n",
    "        print(\"돈이 모자랍니다.\")\n",
    "\n",
    "if menu == \"3\":\n",
    "    if money >= price[2]:\n",
    "        in_money += price[2]\n",
    "        drink[\"사이다\"] -= 1\n",
    "        print(\"사이다 나왔어요 맛있게 드세요.\")\n",
    "        print(\"잔돈 반환 :\", money-price[2])\n",
    "    else:\n",
    "        print(\"돈이 모자랍니다.\")"
   ]
  },
  {
   "cell_type": "code",
   "execution_count": 5,
   "id": "8041d62f",
   "metadata": {},
   "outputs": [
    {
     "name": "stdout",
     "output_type": "stream",
     "text": [
      "{'커피': 9, '콜라': 5, '사이다': 3}\n"
     ]
    }
   ],
   "source": [
    "drink = {\"커피\" : 10, \"콜라\" : 5, \"사이다\" : 3}\n",
    "drink['커피'] -= 1\n",
    "print(drink)"
   ]
  }
 ],
 "metadata": {
  "kernelspec": {
   "display_name": "Python 3 (ipykernel)",
   "language": "python",
   "name": "python3"
  },
  "language_info": {
   "codemirror_mode": {
    "name": "ipython",
    "version": 3
   },
   "file_extension": ".py",
   "mimetype": "text/x-python",
   "name": "python",
   "nbconvert_exporter": "python",
   "pygments_lexer": "ipython3",
   "version": "3.9.13"
  }
 },
 "nbformat": 4,
 "nbformat_minor": 5
}
