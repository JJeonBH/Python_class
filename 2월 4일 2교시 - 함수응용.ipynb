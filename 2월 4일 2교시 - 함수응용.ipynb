{
 "cells": [
  {
   "cell_type": "code",
   "execution_count": 6,
   "id": "ef735abc",
   "metadata": {},
   "outputs": [
    {
     "name": "stdout",
     "output_type": "stream",
     "text": [
      "1~100 : 5050\n"
     ]
    }
   ],
   "source": [
    "# 함수응용 문제\n",
    "# 원하는 범위의 숫자를 생성하고 그 합을 구한다.\n",
    "# 1~100 숫자의 합을 구한다.\n",
    "# 10~20 10에서 20까지의 합을 구한다.\n",
    "# sum_num_range(start, end)\n",
    "# 반환값을 sum을 반환\n",
    "\n",
    "def sum_num_range(start, end):\n",
    "    # 누적할 변수 준비\n",
    "    sum = 0\n",
    "    for i in range(start, end+1):\n",
    "        sum = sum + i\n",
    "    return sum\n",
    "        \n",
    "sum = sum_num_range(1, 100)\n",
    "print(\"1~100 :\", sum)"
   ]
  },
  {
   "cell_type": "code",
   "execution_count": 19,
   "id": "1f72997a",
   "metadata": {},
   "outputs": [
    {
     "name": "stdout",
     "output_type": "stream",
     "text": [
      "12\n"
     ]
    }
   ],
   "source": [
    "# 곱셈을 덧셈으로 계산하는 함수를 만드시오.\n",
    "# mul(3, 4)\n",
    "\n",
    "# def mul(num, count):\n",
    "#     sum = 0\n",
    "#     for i in range(count):\n",
    "#         sum += num\n",
    "#     return sum\n",
    "\n",
    "# sum = mul(3, 5)\n",
    "# print(\"3+3+3+3+3 :\", sum)\n",
    "\n",
    "def mul(num, n):\n",
    "    sum = 0\n",
    "    for i in range(n):\n",
    "        sum += num\n",
    "    return sum\n",
    "\n",
    "print(mul(3, 4))"
   ]
  },
  {
   "cell_type": "code",
   "execution_count": 48,
   "id": "ef3c1ba9",
   "metadata": {},
   "outputs": [
    {
     "name": "stdout",
     "output_type": "stream",
     "text": [
      "30\n",
      "26\n",
      "22\n",
      "18\n",
      "14\n",
      "10\n",
      "6\n",
      "(7, 2)\n"
     ]
    }
   ],
   "source": [
    "# 나눗셈을 뺄셈으로 계산하는 함수를 만드시오.\n",
    "# div(12, 4)\n",
    "\n",
    "def div(num, n):\n",
    "    mok = 0\n",
    "    while num >= n:\n",
    "        print(num)\n",
    "        num -= n\n",
    "        mok += 1 # 카운트 처리 1씩 증가\n",
    "        \n",
    "    return mok, num\n",
    "\n",
    "result = div(30, 4)\n",
    "print(result)"
   ]
  },
  {
   "cell_type": "code",
   "execution_count": 49,
   "id": "b05ce18c",
   "metadata": {
    "scrolled": true
   },
   "outputs": [
    {
     "name": "stdout",
     "output_type": "stream",
     "text": [
      "10\n",
      "7\n",
      "4\n",
      "몫은 : 3\n",
      "나머지는 : 1\n"
     ]
    }
   ],
   "source": [
    "def div1(num, n):\n",
    "    mok = 0\n",
    "    result = [0, 0]\n",
    "    while num >= n:\n",
    "        print(num)\n",
    "        num -= n\n",
    "        mok += 1 # 카운트 처리 1씩 증가\n",
    "        \n",
    "    result[0] = mok\n",
    "    result[1] = num\n",
    "    return result\n",
    "\n",
    "result = div1(10,3)\n",
    "print(\"몫은 :\",result[0])\n",
    "print(\"나머지는 :\",result[1])"
   ]
  },
  {
   "cell_type": "code",
   "execution_count": 63,
   "id": "f67ffe10",
   "metadata": {},
   "outputs": [
    {
     "name": "stdout",
     "output_type": "stream",
     "text": [
      "1 x 1\n",
      "1 x 2\n",
      "2 x 3\n",
      "6 x 4\n",
      "24 x 5\n",
      "120 x 6\n",
      "6! : 720\n"
     ]
    }
   ],
   "source": [
    "# 반복문\n",
    "# 팩토리얼 구하기\n",
    "\n",
    "def factorial(n):\n",
    "    output = 1\n",
    "    for i in range(1, n+1):\n",
    "        print(output, \"x\", i)\n",
    "        output *= i\n",
    "    return output\n",
    "\n",
    "# 팩토리얼 구하기\n",
    "print(\"6! :\", factorial(6))"
   ]
  },
  {
   "cell_type": "code",
   "execution_count": 71,
   "id": "e6a528dc",
   "metadata": {},
   "outputs": [
    {
     "name": "stdout",
     "output_type": "stream",
     "text": [
      "3! : 6\n"
     ]
    }
   ],
   "source": [
    "# 재귀함수\n",
    "# 팩토리얼 구하기\n",
    "\n",
    "def factorial(n):\n",
    "    # n이 1이라면 1을 리턴\n",
    "    if n == 1:\n",
    "        return 1\n",
    "    elif n > 1:\n",
    "        return n * factorial(n-1)\n",
    "\n",
    "# 팩토리얼 구하기\n",
    "print(\"3! :\", factorial(3))"
   ]
  }
 ],
 "metadata": {
  "kernelspec": {
   "display_name": "Python 3 (ipykernel)",
   "language": "python",
   "name": "python3"
  },
  "language_info": {
   "codemirror_mode": {
    "name": "ipython",
    "version": 3
   },
   "file_extension": ".py",
   "mimetype": "text/x-python",
   "name": "python",
   "nbconvert_exporter": "python",
   "pygments_lexer": "ipython3",
   "version": "3.9.13"
  }
 },
 "nbformat": 4,
 "nbformat_minor": 5
}
