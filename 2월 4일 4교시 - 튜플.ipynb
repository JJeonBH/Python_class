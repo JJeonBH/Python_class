{
 "cells": [
  {
   "cell_type": "code",
   "execution_count": 26,
   "id": "ed61e751",
   "metadata": {},
   "outputs": [
    {
     "name": "stdout",
     "output_type": "stream",
     "text": [
      "(10, 20, 30)\n",
      "[4, 6, 7]\n",
      "10\n",
      "4\n",
      "[11, 6, 7]\n",
      "1\n",
      "2\n"
     ]
    }
   ],
   "source": [
    "# 튜플을 생성\n",
    "age = (10, 20, 30)\n",
    "num = [4, 6, 7]\n",
    "\n",
    "print(age)\n",
    "print(num)\n",
    "\n",
    "print(age[0])\n",
    "print(num[0])\n",
    "\n",
    "num[0] = 11\n",
    "print(num)\n",
    "\n",
    "# age[0] = 11  # 튜플은 값 변경 안됨\n",
    "\n",
    "print(age.count(10))\n",
    "print(age.index(30))"
   ]
  },
  {
   "cell_type": "code",
   "execution_count": 69,
   "id": "a21ea853",
   "metadata": {},
   "outputs": [
    {
     "name": "stdout",
     "output_type": "stream",
     "text": [
      "10 20\n",
      "30 40\n",
      "50\n",
      "50 50 60\n",
      "80\n"
     ]
    }
   ],
   "source": [
    "[a, b] = [10, 20]\n",
    "(c, d) = (30, 40)\n",
    "print(a, b)\n",
    "print(c, d)\n",
    "c = 50\n",
    "print(c)\n",
    "\n",
    "test = (50, 50, 60)\n",
    "(aa, bb, cc) = test\n",
    "print(aa, bb, cc)\n",
    "aa = 80\n",
    "print(q)"
   ]
  },
  {
   "cell_type": "code",
   "execution_count": 37,
   "id": "2cf4206b",
   "metadata": {},
   "outputs": [
    {
     "name": "stdout",
     "output_type": "stream",
     "text": [
      "(10, 20, 30, 40)\n"
     ]
    }
   ],
   "source": [
    "tuple_list = 10, 20, 30, 40\n",
    "print(tuple_list)\n",
    "# tuple_list[0] = 100"
   ]
  },
  {
   "cell_type": "code",
   "execution_count": 42,
   "id": "83115440",
   "metadata": {},
   "outputs": [
    {
     "name": "stdout",
     "output_type": "stream",
     "text": [
      "10\n",
      "20\n",
      "30\n",
      "50\n"
     ]
    }
   ],
   "source": [
    "a, b, c = 10, 20, 30\n",
    "print(a)\n",
    "print(b)\n",
    "print(c)\n",
    "c = 50\n",
    "print(c)"
   ]
  },
  {
   "cell_type": "code",
   "execution_count": 70,
   "id": "2d94666d",
   "metadata": {},
   "outputs": [
    {
     "name": "stdout",
     "output_type": "stream",
     "text": [
      "30\n",
      "50\n"
     ]
    }
   ],
   "source": [
    "# 튜플을 사용하여 여러개의 값을 리턴\n",
    "def test():\n",
    "    return 30, 50 # (30, 50) # [30, 50]\n",
    "\n",
    "result = test()\n",
    "print(result[0])\n",
    "print(result[1])"
   ]
  },
  {
   "cell_type": "code",
   "execution_count": 79,
   "id": "68ee8e7b",
   "metadata": {},
   "outputs": [
    {
     "name": "stdout",
     "output_type": "stream",
     "text": [
      "1 -- 1\n",
      "2 -- 3\n",
      "3 -- 6\n",
      "4 -- 10\n",
      "5 -- 15\n",
      "6 -- 21\n",
      "7 -- 28\n",
      "8 -- 36\n",
      "9 -- 45\n",
      "10 -- 55\n",
      "11 -- 66\n",
      "12 -- 78\n",
      "13 -- 91\n",
      "14 -- 105\n",
      "n : 14\n"
     ]
    }
   ],
   "source": [
    "# 함수 응용 문제\n",
    "# 1부터 n까지 합을 구하면서 그 합이 100이상이면 멈추고\n",
    "# 그때의 n값을 구하시오.\n",
    "# sum_over100()\n",
    "# 반환값은 n\n",
    "\n",
    "def sum_over100():\n",
    "    sum = 0\n",
    "    n = 0\n",
    "    while sum < 100:\n",
    "        n += 1\n",
    "        sum += n\n",
    "        print(n, \"--\", sum)\n",
    "    return n\n",
    "\n",
    "n = sum_over100()\n",
    "print(\"n :\", n)"
   ]
  },
  {
   "cell_type": "code",
   "execution_count": 86,
   "id": "64672538",
   "metadata": {
    "scrolled": false
   },
   "outputs": [
    {
     "name": "stdout",
     "output_type": "stream",
     "text": [
      "1 -- 1\n",
      "2 -- 3\n",
      "3 -- 6\n",
      "4 -- 10\n",
      "5 -- 15\n",
      "6 -- 21\n",
      "7 -- 28\n",
      "8 -- 36\n",
      "9 -- 45\n",
      "10 -- 55\n",
      "11 -- 66\n",
      "12 -- 78\n",
      "13 -- 91\n",
      "14 -- 105\n",
      "15 -- 120\n",
      "16 -- 136\n",
      "17 -- 153\n",
      "18 -- 171\n",
      "19 -- 190\n",
      "20 -- 210\n",
      "n : 20\n"
     ]
    }
   ],
   "source": [
    "# 함수 응용 문제\n",
    "# 1부터 n까지 합을 구하면서 그 합이 end이상이면 멈추고\n",
    "# 그때의 n값을 구하시오.\n",
    "# sum_over_end()\n",
    "# 반환값은 n\n",
    "\n",
    "def sum_over_end(num):\n",
    "    sum = 0\n",
    "    n = 0\n",
    "    while sum < num:\n",
    "        n += 1\n",
    "        sum += n\n",
    "        print(n, \"--\", sum)\n",
    "    return n\n",
    "\n",
    "n = sum_over_end(200)\n",
    "print(\"n :\", n)"
   ]
  }
 ],
 "metadata": {
  "kernelspec": {
   "display_name": "Python 3 (ipykernel)",
   "language": "python",
   "name": "python3"
  },
  "language_info": {
   "codemirror_mode": {
    "name": "ipython",
    "version": 3
   },
   "file_extension": ".py",
   "mimetype": "text/x-python",
   "name": "python",
   "nbconvert_exporter": "python",
   "pygments_lexer": "ipython3",
   "version": "3.9.13"
  }
 },
 "nbformat": 4,
 "nbformat_minor": 5
}
