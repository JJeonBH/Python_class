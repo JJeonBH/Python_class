{
 "cells": [
  {
   "cell_type": "code",
   "execution_count": 11,
   "id": "63b720cd",
   "metadata": {},
   "outputs": [
    {
     "name": "stdout",
     "output_type": "stream",
     "text": [
      "[30, 30, '홍길동', '이순신', True, 45.4, 200]\n"
     ]
    }
   ],
   "source": [
    "# 리스트 자료구조\n",
    "# 여러개의 값을 저장할 수 있다.\n",
    "tot = 100\n",
    "array = [20 + 10, 30, \"홍길동\", \"이순신\", True, 45.4, tot + 100]\n",
    "print(array)"
   ]
  },
  {
   "cell_type": "code",
   "execution_count": 15,
   "id": "77e2213b",
   "metadata": {},
   "outputs": [
    {
     "name": "stdout",
     "output_type": "stream",
     "text": [
      "리스트의 0 번째 값은 20\n",
      "리스트의 1 번째 값은 30\n",
      "리스트의 2 번째 값은 홍길동\n",
      "리스트의 3 번째 값은 이순신\n",
      "리스트의 4 번째 값은 True\n",
      "리스트의 5 번째 값은 45.4\n",
      "리스트의 6 번째 값은 100\n"
     ]
    }
   ],
   "source": [
    "# 리스트 자료구조\n",
    "# 여러개의 값을 저장할 수 있다.\n",
    "# 리스트의 값을 꺼내어 출력\n",
    "tot = 100\n",
    "array = [20, 30, \"홍길동\", \"이순신\", True, 45.4, tot]\n",
    "for i in range(7):\n",
    "    print('리스트의', i, '번째 값은', array[i])"
   ]
  },
  {
   "cell_type": "code",
   "execution_count": 22,
   "id": "018b43b8",
   "metadata": {},
   "outputs": [
    {
     "name": "stdout",
     "output_type": "stream",
     "text": [
      "리스트의 0 번째 값은 10\n",
      "리스트의 1 번째 값은 15\n",
      "리스트의 2 번째 값은 20\n",
      "리스트의 3 번째 값은 30\n",
      "리스트의 4 번째 값은 홍길동\n",
      "리스트의 5 번째 값은 이순신\n",
      "리스트의 6 번째 값은 True\n",
      "리스트의 7 번째 값은 45.4\n",
      "리스트의 8 번째 값은 100\n"
     ]
    }
   ],
   "source": [
    "# 리스트 자료구조\n",
    "# 여러개의 값을 저장할 수 있다.\n",
    "# 리스트의 값을 꺼내어 출력\n",
    "tot = 100\n",
    "array = [10, 15, 20, 30, \"홍길동\", \"이순신\", True, 45.4, tot]\n",
    "# size_of_list = len(array)\n",
    "# print(size_of_list)\n",
    "for i in range(len(array)):\n",
    "    print('리스트의', i, '번째 값은', array[i])"
   ]
  },
  {
   "cell_type": "code",
   "execution_count": 33,
   "id": "9138a873",
   "metadata": {},
   "outputs": [
    {
     "name": "stdout",
     "output_type": "stream",
     "text": [
      "[10, 15, 20, 30]\n",
      "['홍길동', '이순신']\n",
      "[True, 45.4, 100]\n"
     ]
    }
   ],
   "source": [
    "# 리스트 자료구조\n",
    "# 여러개의 값을 저장할 수 있다.\n",
    "# 리스트의 값을 꺼내어 출력\n",
    "tot = 100\n",
    "array = [10, 15, 20, 30, \"홍길동\", \"이순신\", True, 45.4, tot]\n",
    "array1 = array[0:4]\n",
    "print(array1)\n",
    "\n",
    "name_list = array[4:6]\n",
    "print(name_list)\n",
    "\n",
    "other_list = array[6:]\n",
    "print(other_list)"
   ]
  },
  {
   "cell_type": "code",
   "execution_count": 39,
   "id": "0014eb3a",
   "metadata": {},
   "outputs": [
    {
     "name": "stdout",
     "output_type": "stream",
     "text": [
      "[10, 15, 20, 30, '홍길동', '이순신', True, 45.4, 100]\n",
      "['백만원', 15, 20, 30, '홍길동', '이순신', True, 45.4, 100]\n",
      "['백만원', 15, 20, 30, 200, '이순신', True, 45.4, 100]\n"
     ]
    }
   ],
   "source": [
    "# 리스트 자료구조의 값은 변경할 수 있다.\n",
    "# 리스트의 자료는 순서대로 나열된 것으로 값의 순서가 있다.\n",
    "\n",
    "tot = 100\n",
    "array = [10, 15, 20, 30, \"홍길동\", \"이순신\", True, 45.4, tot]\n",
    "print(array)\n",
    "array[0] = \"백만원\"\n",
    "print(array)\n",
    "array[4] = 200\n",
    "print(array)"
   ]
  },
  {
   "cell_type": "code",
   "execution_count": 41,
   "id": "cf085315",
   "metadata": {},
   "outputs": [
    {
     "name": "stdout",
     "output_type": "stream",
     "text": [
      "[10, 15, 20, 30, '홍길동', '이순신', True, 45.4, 100]\n"
     ]
    }
   ],
   "source": [
    "list1 = [10, 15, 20, 30] \n",
    "list2 = [\"홍길동\", \"이순신\", True, 45.4, tot]\n",
    "list3 = list1 + list2\n",
    "print(list3)"
   ]
  }
 ],
 "metadata": {
  "kernelspec": {
   "display_name": "Python 3 (ipykernel)",
   "language": "python",
   "name": "python3"
  },
  "language_info": {
   "codemirror_mode": {
    "name": "ipython",
    "version": 3
   },
   "file_extension": ".py",
   "mimetype": "text/x-python",
   "name": "python",
   "nbconvert_exporter": "python",
   "pygments_lexer": "ipython3",
   "version": "3.9.13"
  }
 },
 "nbformat": 4,
 "nbformat_minor": 5
}
