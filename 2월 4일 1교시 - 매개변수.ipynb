{
 "cells": [
  {
   "cell_type": "code",
   "execution_count": 5,
   "id": "ad9ec749",
   "metadata": {},
   "outputs": [
    {
     "name": "stdout",
     "output_type": "stream",
     "text": [
      "안녕 친구야\n",
      "안녕 친구야\n",
      "안녕 친구야\n",
      "Hello Friend\n",
      "Hello Friend\n",
      "Hello Friend\n",
      "Hello Friend\n",
      "Hello Friend\n"
     ]
    }
   ],
   "source": [
    "def print_n_times(value, n):\n",
    "    for i in range(n):\n",
    "        print(value)\n",
    "        \n",
    "# 함수호출(사용)\n",
    "print_n_times(\"안녕 친구야\", 3)\n",
    "print_n_times(\"Hello Friend\", 5)"
   ]
  },
  {
   "cell_type": "code",
   "execution_count": 50,
   "id": "4b32a56c",
   "metadata": {},
   "outputs": [
    {
     "name": "stdout",
     "output_type": "stream",
     "text": [
      "안녕\n",
      "즐거운\n",
      "파이썬 프로그래밍\n",
      "\n",
      "안녕\n",
      "즐거운\n",
      "파이썬 프로그래밍\n",
      "\n",
      "안녕\n",
      "즐거운\n",
      "파이썬 프로그래밍\n",
      "\n",
      "9\n",
      "55\n"
     ]
    }
   ],
   "source": [
    "# 가변 매개 변수\n",
    "def print_n_times(n, *values):\n",
    "    # n번 반복하여 출력\n",
    "    for i in range(n):\n",
    "        # value출력하기 위해서 반복\n",
    "        for value in values:\n",
    "            print(value)\n",
    "        print() # 줄 바꿈\n",
    "        \n",
    "print_n_times(3, \"안녕\", \"즐거운\", \"파이썬 프로그래밍\")\n",
    "\n",
    "def test1(*values):\n",
    "    sum=0\n",
    "    for value in values:\n",
    "        sum += value\n",
    "    print(sum)\n",
    "    \n",
    "test1(2, 3, 4)\n",
    "test1(1, 2, 3, 4, 5, 6, 7, 8, 9, 10)"
   ]
  },
  {
   "cell_type": "code",
   "execution_count": 26,
   "id": "ffa46109",
   "metadata": {},
   "outputs": [
    {
     "name": "stdout",
     "output_type": "stream",
     "text": [
      "안녕하세요\n",
      "안녕하세요\n",
      "안녕하세요\n",
      "안녕하세요\n",
      "안녕하세요\n"
     ]
    }
   ],
   "source": [
    "# 기본매개(default parameter)\n",
    "def print_n_times(value, n=2):\n",
    "    for i in range(n):\n",
    "        print(value)\n",
    "        \n",
    "print_n_times(\"안녕하세요\")\n",
    "\n",
    "print_n_times(\"안녕하세요\", 3)"
   ]
  },
  {
   "cell_type": "code",
   "execution_count": 27,
   "id": "e07bf26d",
   "metadata": {},
   "outputs": [
    {
     "name": "stdout",
     "output_type": "stream",
     "text": [
      "안녕\n",
      "안녕\n",
      "안녕 친구야\n",
      "안녕 친구야\n"
     ]
    }
   ],
   "source": [
    "# 기본매개(default parameter)\n",
    "def print_n_times(n, value=\"안녕\"): # 기본값은 마지막에\n",
    "    for i in range(n):\n",
    "        print(value)\n",
    "        \n",
    "print_n_times(2)\n",
    "print_n_times(2, \"안녕 친구야\")\n",
    "\n",
    "\n",
    "# def print_n_times1(value=\"안녕\", n): # 기본값은 마지막에\n",
    "#     for i in range(n):\n",
    "#         print(value)\n",
    "\n",
    "# print_n_times1(3) <-- 오류 발생, value에 3이 들어가고 n에 값을 안줌"
   ]
  },
  {
   "cell_type": "code",
   "execution_count": 32,
   "id": "a11b24db",
   "metadata": {},
   "outputs": [
    {
     "name": "stdout",
     "output_type": "stream",
     "text": [
      "60\n",
      "120\n",
      "210\n"
     ]
    }
   ],
   "source": [
    "def test(a, b=10, c=100):\n",
    "       print(a+b+c)\n",
    "        \n",
    "test(10, 20, 30)\n",
    "test(10)\n",
    "test(10, 100)"
   ]
  },
  {
   "cell_type": "code",
   "execution_count": 53,
   "id": "0363f76e",
   "metadata": {},
   "outputs": [],
   "source": [
    "# 리턴값의 의미\n",
    "# 1) 함수 실행결과(값)를 반환한다.\n",
    "# 2) 실행문의 제어를 호출한 함수로 되돌린다."
   ]
  },
  {
   "cell_type": "code",
   "execution_count": 96,
   "id": "8cf2ebf4",
   "metadata": {},
   "outputs": [
    {
     "name": "stdout",
     "output_type": "stream",
     "text": [
      "나이를 입력 :15\n",
      "10대입니다.\n"
     ]
    }
   ],
   "source": [
    "# 나이를 입력 받아서 연령대가 10대인지 판별한다.\n",
    "# 10(10~19)\n",
    "\n",
    "def age10(age):\n",
    "    if age >= 10 and age <= 19:\n",
    "        print(\"10대입니다.\")\n",
    "        return;\n",
    "    print(\"10대가 아닙니다\")\n",
    "        \n",
    "# 키보드 입력으로 나이를 받는다.\n",
    "age = input(\"나이를 입력 :\")\n",
    "\n",
    "# 함수호출\n",
    "age = int(age)\n",
    "age10(age)"
   ]
  },
  {
   "cell_type": "code",
   "execution_count": 116,
   "id": "3c31b9cb",
   "metadata": {},
   "outputs": [
    {
     "name": "stdout",
     "output_type": "stream",
     "text": [
      "나이를 입력 :30\n",
      "연령대 : 30대\n"
     ]
    }
   ],
   "source": [
    "# 나이를 입력 받아서 10대 20대 30대 조사\n",
    "\n",
    "def age10_30(age):\n",
    "    if age >= 10 and age <= 19:\n",
    "        return \"10대\"\n",
    "    elif age >= 20 and age <= 29:\n",
    "        return \"20대\"\n",
    "    elif age >= 30 and age <= 39:\n",
    "        return \"30대\"\n",
    "    else:\n",
    "        print(\"조사대상 연령이 아닙니다.\")\n",
    "        return \"-1\"\n",
    "        \n",
    "# 키보드 입력으로 나이를 받는다.\n",
    "age = input(\"나이를 입력 :\")\n",
    "\n",
    "# 함수호출\n",
    "age = int(age)\n",
    "result = age10_30(age)\n",
    "print(\"연령대 :\", result)"
   ]
  }
 ],
 "metadata": {
  "kernelspec": {
   "display_name": "Python 3 (ipykernel)",
   "language": "python",
   "name": "python3"
  },
  "language_info": {
   "codemirror_mode": {
    "name": "ipython",
    "version": 3
   },
   "file_extension": ".py",
   "mimetype": "text/x-python",
   "name": "python",
   "nbconvert_exporter": "python",
   "pygments_lexer": "ipython3",
   "version": "3.9.13"
  }
 },
 "nbformat": 4,
 "nbformat_minor": 5
}
