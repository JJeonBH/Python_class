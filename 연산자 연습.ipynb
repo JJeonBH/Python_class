{
 "cells": [
  {
   "cell_type": "code",
   "execution_count": 3,
   "id": "403b3266",
   "metadata": {},
   "outputs": [
    {
     "name": "stdout",
     "output_type": "stream",
     "text": [
      "8\n",
      "2\n",
      "15\n",
      "1.6666666666666667\n",
      "1\n",
      "2\n",
      "125\n"
     ]
    }
   ],
   "source": [
    "# 입력데이터\n",
    "num1 = 5\n",
    "num2 = 3\n",
    "\n",
    "# 데이터 처리\n",
    "hap = num1 + num2\n",
    "cha = num1 - num2\n",
    "gop = num1 * num2\n",
    "mok = num1 / num2\n",
    "mok2 = num1 // num2\n",
    "namergi = num1 % num2\n",
    "squre = num1 ** num2\n",
    "\n",
    "# 데이터 출력\n",
    "print(hap)\n",
    "print(cha)\n",
    "print(gop)\n",
    "print(mok)\n",
    "print(mok2)\n",
    "print(namergi)                                                                                                                                                                                                                                                                                          \n",
    "print(squre)"
   ]
  },
  {
   "cell_type": "code",
   "execution_count": 12,
   "id": "6c4a8fc8",
   "metadata": {},
   "outputs": [
    {
     "name": "stdout",
     "output_type": "stream",
     "text": [
      "1\n",
      "2\n",
      "3\n"
     ]
    }
   ],
   "source": [
    "a = 0\n",
    "a = a + 1\n",
    "print(a)\n",
    "a = a + 1\n",
    "print(a)\n",
    "a = a + 1\n",
    "print(a)"
   ]
  },
  {
   "cell_type": "code",
   "execution_count": 16,
   "id": "f5f8dc88",
   "metadata": {},
   "outputs": [
    {
     "name": "stdout",
     "output_type": "stream",
     "text": [
      "9\n",
      "8\n",
      "7\n"
     ]
    }
   ],
   "source": [
    "a = 10\n",
    "a -= 1\n",
    "print(a)\n",
    "a -= 1\n",
    "print(a)\n",
    "a -= 1\n",
    "print(a)"
   ]
  },
  {
   "cell_type": "code",
   "execution_count": 25,
   "id": "a6b93437",
   "metadata": {},
   "outputs": [
    {
     "name": "stdout",
     "output_type": "stream",
     "text": [
      "1번째 정수를 입력하세요 : 5\n",
      "2번째 정수를 입력하세요 : 4\n",
      "3번째 정수를 입력하세요 : 3\n",
      "합 : 12\n",
      "평균 : 4.0\n"
     ]
    }
   ],
   "source": [
    "# 정수 3개를 키보드로 입력받아서\n",
    "# 3개의 정수의 합과 평균을 출력하세요.\n",
    "\n",
    "# 데이터 입력\n",
    "hap = 0 # 누적변수 초기화(준비)\n",
    "count = 1\n",
    "\n",
    "title = str(count) + '번째 정수를 입력하세요 : '\n",
    "num1 = input(title)\n",
    "num1 = int(num1)\n",
    "hap += num1\n",
    "count += 1\n",
    "\n",
    "title = str(count) + '번째 정수를 입력하세요 : '\n",
    "num2 = input(title)\n",
    "num2 = int(num2)\n",
    "hap += num2\n",
    "count += 1\n",
    "\n",
    "title = str(count) + '번째 정수를 입력하세요 : '\n",
    "num3 = input(title)\n",
    "num3 = int(num3)\n",
    "hap += num3\n",
    "count += 1\n",
    "\n",
    "# 데이터 처리 : 총점, 평균\n",
    "# 총점은 num1+num2+num3\n",
    "# 평균 (num1+num2+num3) / 3\n",
    "\n",
    "avg = hap / 3\n",
    "\n",
    "# 데이터 출력\n",
    "print('합 :', hap)\n",
    "print('평균 :', avg)"
   ]
  },
  {
   "cell_type": "code",
   "execution_count": null,
   "id": "d0368117",
   "metadata": {},
   "outputs": [],
   "source": []
  },
  {
   "cell_type": "code",
   "execution_count": null,
   "id": "3618f9b0",
   "metadata": {},
   "outputs": [],
   "source": []
  }
 ],
 "metadata": {
  "kernelspec": {
   "display_name": "Python 3 (ipykernel)",
   "language": "python",
   "name": "python3"
  },
  "language_info": {
   "codemirror_mode": {
    "name": "ipython",
    "version": 3
   },
   "file_extension": ".py",
   "mimetype": "text/x-python",
   "name": "python",
   "nbconvert_exporter": "python",
   "pygments_lexer": "ipython3",
   "version": "3.9.13"
  }
 },
 "nbformat": 4,
 "nbformat_minor": 5
}
