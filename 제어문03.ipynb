{
 "cells": [
  {
   "cell_type": "code",
   "execution_count": 32,
   "id": "4392c3cc",
   "metadata": {},
   "outputs": [
    {
     "name": "stdout",
     "output_type": "stream",
     "text": [
      "2023-01-15 09:53:33.761127\n",
      "9\n",
      "53\n",
      "33\n",
      "2023\n",
      "1\n",
      "15\n"
     ]
    }
   ],
   "source": [
    "# 현재 날짜 / 시간 출력\n",
    "# 모듈(이미 작성된 프로그램 : 수많은 기능을 제공)\n",
    "import datetime\n",
    "\n",
    "# 현재의 날짜 / 시간을 구하는 방법\n",
    "now = datetime.datetime.now()\n",
    "\n",
    "# 현재의 날짜 / 시간을 출력\n",
    "print(now)\n",
    "print(now.hour)\n",
    "print(now.minute)\n",
    "print(now.second)\n",
    "# 년 월 일도 출력\n",
    "print(now.year)\n",
    "print(now.month)\n",
    "print(now.day)"
   ]
  },
  {
   "cell_type": "code",
   "execution_count": 50,
   "id": "9f8bb0e4",
   "metadata": {},
   "outputs": [
    {
     "name": "stdout",
     "output_type": "stream",
     "text": [
      "현재 시간은 10시로 오전입니다.\n"
     ]
    }
   ],
   "source": [
    "# 지금 이 시간이 오전 / 오후 인지 구분하시오.\n",
    "\n",
    "now = datetime.datetime.now()\n",
    "    \n",
    "if(now.hour < 12):\n",
    "    print('현재 시간은 {}시로 오전입니다.'.format(now.hour))\n",
    "    \n",
    "if(now.hour >= 12):\n",
    "    print('현재 시간은 {}시로 오후입니다.'.format(now.hour))"
   ]
  },
  {
   "cell_type": "code",
   "execution_count": 63,
   "id": "a415ae82",
   "metadata": {},
   "outputs": [
    {
     "name": "stdout",
     "output_type": "stream",
     "text": [
      "<class 'datetime.datetime'>\n",
      "<class 'int'>\n",
      "이번달은 1월이고, 겨울입니다.\n"
     ]
    }
   ],
   "source": [
    "# 현재 월이 사계절 중에서 어떤 계절에 해당하는지 출력\n",
    "# 봄(3~5), 여름(6~8), 가을(9~11), 겨울(12~2)\n",
    "\n",
    "# now객체에 날짜 / 시간 정보\n",
    "now = datetime.datetime.now()\n",
    "print(type(now))\n",
    "\n",
    "# 현재월을 변수에 저장\n",
    "month = now.month\n",
    "print(type(month))\n",
    "\n",
    "if(month >= 3 and month <= 5 ):\n",
    "    print('이번달은 {}월이고, 봄입니다.'.format(month))\n",
    "    \n",
    "if(month >= 6 and month <= 8 ):\n",
    "    print('이번달은 {}월이고, 여름입니다.'.format(month))\n",
    "    \n",
    "if(month >= 9 and month <= 11 ):\n",
    "    print('이번달은 {}월이고, 가을입니다.'.format(month))\n",
    "    \n",
    "# if(month == 1 or month == 2 or month == 12):\n",
    "# if(month >= 1 and month <= 2 or month == 12):\n",
    "if(1 <= month <= 2 or month == 12):\n",
    "    print('이번달은 {}월이고, 겨울입니다.'.format(month))"
   ]
  }
 ],
 "metadata": {
  "kernelspec": {
   "display_name": "Python 3 (ipykernel)",
   "language": "python",
   "name": "python3"
  },
  "language_info": {
   "codemirror_mode": {
    "name": "ipython",
    "version": 3
   },
   "file_extension": ".py",
   "mimetype": "text/x-python",
   "name": "python",
   "nbconvert_exporter": "python",
   "pygments_lexer": "ipython3",
   "version": "3.9.13"
  }
 },
 "nbformat": 4,
 "nbformat_minor": 5
}
