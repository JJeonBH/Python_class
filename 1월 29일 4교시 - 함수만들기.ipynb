{
 "cells": [
  {
   "cell_type": "code",
   "execution_count": 2,
   "id": "f4db8d9b",
   "metadata": {},
   "outputs": [
    {
     "name": "stdout",
     "output_type": "stream",
     "text": [
      "hello ~\n",
      "hello ~\n",
      "hello ~\n"
     ]
    }
   ],
   "source": [
    "# 사용자 함수\n",
    "# 함수를 정의(def 함수명(): ~~~ 함수 기능 기술)\n",
    "# 함수를 사용(함수이름을 호출)\n",
    "\n",
    "# 함수 만들기(정의)\n",
    "def hello3():\n",
    "    print('hello ~')\n",
    "    print('hello ~')    \n",
    "    print('hello ~')\n",
    "    \n",
    "hello3() # 함수 호출"
   ]
  },
  {
   "cell_type": "code",
   "execution_count": 5,
   "id": "782c8432",
   "metadata": {},
   "outputs": [
    {
     "data": {
      "text/plain": [
       "30"
      ]
     },
     "execution_count": 5,
     "metadata": {},
     "output_type": "execute_result"
    }
   ],
   "source": [
    "# 덧셈 함수 만들기(정의)\n",
    "def add():\n",
    "    sum = 10 + 20\n",
    "    return sum\n",
    "\n",
    "add() # 함수 호출"
   ]
  },
  {
   "cell_type": "code",
   "execution_count": 10,
   "id": "5119c9e3",
   "metadata": {},
   "outputs": [
    {
     "name": "stdout",
     "output_type": "stream",
     "text": [
      "숫자 1개를 입력하세요10\n",
      "숫자 1개를 입력하세요5\n",
      "원하는 연산 하나를 선택 : +, -, *, /*\n",
      "곱 은 50\n"
     ]
    }
   ],
   "source": [
    "# 덧셈 함수 만들기(정의)\n",
    "def add(a, b):\n",
    "    return a + b\n",
    "\n",
    "# 뺄셈 함수 만들기(정의)\n",
    "def sub(a, b):\n",
    "    return a - b\n",
    "\n",
    "# 곱셈 함수 만들기(정의)\n",
    "def mul(a, b):\n",
    "    return a * b\n",
    "\n",
    "# 나눗셈 함수 만들기(정의)\n",
    "def div(a, b):\n",
    "    return a / b\n",
    "\n",
    "def mok(a, b):\n",
    "    return a // b\n",
    "\n",
    "def remain(a, b):\n",
    "    return a % b\n",
    "\n",
    "num1 = input('숫자 1개를 입력하세요')\n",
    "num2 = input('숫자 1개를 입력하세요')\n",
    "op = input('원하는 연산 하나를 선택 : +, -, *, /')\n",
    "\n",
    "if op == '+':\n",
    "    operator = '합'\n",
    "    result = add(int(num1), int(num2))\n",
    "if op == '-':\n",
    "    operator = '차'\n",
    "    result = sub(int(num1), int(num2))\n",
    "if op == '*':\n",
    "    operator = '곱'\n",
    "    result = mul(int(num1), int(num2))\n",
    "if op == '/':\n",
    "    operator = '몫'\n",
    "    result = div(int(num1), int(num2))\n",
    "    \n",
    "print(operator, '은', result)"
   ]
  },
  {
   "cell_type": "code",
   "execution_count": 14,
   "id": "1a09d501",
   "metadata": {},
   "outputs": [
    {
     "name": "stdout",
     "output_type": "stream",
     "text": [
      "숫자 1개를 입력하세요5\n",
      "숫자 1개를 입력하세요3\n",
      "원하는 연산 하나를 선택 : +, -, *, //\n",
      "몫은 1.6666666666666667\n"
     ]
    }
   ],
   "source": [
    "num1 = input('숫자 1개를 입력하세요')\n",
    "num2 = input('숫자 1개를 입력하세요')\n",
    "op = input('원하는 연산 하나를 선택 : +, -, *, /')\n",
    "\n",
    "if op == '+':\n",
    "    operator = '합'\n",
    "    result = add(int(num1), int(num2))\n",
    "elif op == '-':\n",
    "    operator = '차'\n",
    "    result = sub(int(num1), int(num2))\n",
    "elif op == '*':\n",
    "    operator = '곱'\n",
    "    result = mul(int(num1), int(num2))\n",
    "elif op == '/':\n",
    "    operator = '몫'\n",
    "    result = div(int(num1), int(num2))\n",
    "    \n",
    "print(operator + '은', result)"
   ]
  }
 ],
 "metadata": {
  "kernelspec": {
   "display_name": "Python 3 (ipykernel)",
   "language": "python",
   "name": "python3"
  },
  "language_info": {
   "codemirror_mode": {
    "name": "ipython",
    "version": 3
   },
   "file_extension": ".py",
   "mimetype": "text/x-python",
   "name": "python",
   "nbconvert_exporter": "python",
   "pygments_lexer": "ipython3",
   "version": "3.9.13"
  }
 },
 "nbformat": 4,
 "nbformat_minor": 5
}
