{
 "cells": [
  {
   "cell_type": "code",
   "execution_count": 17,
   "id": "a49d8ee1",
   "metadata": {},
   "outputs": [
    {
     "name": "stdout",
     "output_type": "stream",
     "text": [
      "출력\n",
      "출력\n",
      "출력\n",
      "출력\n",
      "출력\n",
      "출력\n",
      "출력\n",
      "출력\n",
      "출력\n",
      "출력\n"
     ]
    }
   ],
   "source": [
    "# 반복문 for문 range\n",
    "for i in range(10):\n",
    "    # 여기에 반복할 문장\n",
    "    print('출력')"
   ]
  },
  {
   "cell_type": "code",
   "execution_count": 18,
   "id": "ec987f26",
   "metadata": {},
   "outputs": [
    {
     "name": "stdout",
     "output_type": "stream",
     "text": [
      "출력 1\n",
      "출력 2\n",
      "출력 3\n",
      "출력 4\n",
      "출력 5\n",
      "출력 6\n",
      "출력 7\n",
      "출력 8\n",
      "출력 9\n",
      "출력 10\n"
     ]
    }
   ],
   "source": [
    "for i in range(10):\n",
    "    # 여기에 반복할 문장\n",
    "    print('출력', i+1)"
   ]
  },
  {
   "cell_type": "code",
   "execution_count": 21,
   "id": "ce55001d",
   "metadata": {},
   "outputs": [
    {
     "name": "stdout",
     "output_type": "stream",
     "text": [
      "출력 0\n",
      "누적값 : 0\n",
      "출력 1\n",
      "누적값 : 1\n",
      "출력 2\n",
      "누적값 : 3\n",
      "출력 3\n",
      "누적값 : 6\n",
      "출력 4\n",
      "누적값 : 10\n",
      "출력 5\n",
      "누적값 : 15\n",
      "출력 6\n",
      "누적값 : 21\n",
      "출력 7\n",
      "누적값 : 28\n",
      "출력 8\n",
      "누적값 : 36\n",
      "출력 9\n",
      "누적값 : 45\n",
      "출력 10\n",
      "누적값 : 55\n",
      "55\n"
     ]
    }
   ],
   "source": [
    "# 1부터 10까지의 합을 구하시오\n",
    "# 1+2+3+4+5+6+7+8+9+10\n",
    "# 위의 수식의 결과\n",
    "# 누적할 변수 sum\n",
    "\n",
    "sum = 0\n",
    "for i in range(11):\n",
    "    # 여기에 반복할 문장\n",
    "    print('출력', i)\n",
    "    # 누적을 표현\n",
    "    sum = sum + i # 1부터 10까지의 값을 누적\n",
    "    print(\"누적값 :\", sum)\n",
    "print(sum)"
   ]
  },
  {
   "cell_type": "code",
   "execution_count": 22,
   "id": "d11b2113",
   "metadata": {},
   "outputs": [
    {
     "name": "stdout",
     "output_type": "stream",
     "text": [
      "출력 0\n",
      "출력 1\n",
      "출력 2\n",
      "출력 3\n",
      "출력 4\n",
      "출력 5\n",
      "출력 6\n",
      "출력 7\n",
      "출력 8\n",
      "출력 9\n",
      "출력 10\n",
      "30\n"
     ]
    }
   ],
   "source": [
    "# 1부터 10까지의 짝수의 합을 구하시오\n",
    "# 2+4+6+8+10\n",
    "# 위의 수식의 결과\n",
    "# 누적할 변수 sum\n",
    "\n",
    "sum = 0\n",
    "for i in range(11):\n",
    "    # 여기에 반복할 문장\n",
    "    print('출력', i)\n",
    "    # 누적을 표현\n",
    "    if (i%2 == 0):\n",
    "        sum = sum + i\n",
    "print(sum)"
   ]
  },
  {
   "cell_type": "code",
   "execution_count": 26,
   "id": "8df305c4",
   "metadata": {},
   "outputs": [
    {
     "name": "stdout",
     "output_type": "stream",
     "text": [
      "출력 0\n",
      "출력 1\n",
      "출력 2\n",
      "출력 3\n",
      "출력 4\n",
      "출력 5\n",
      "출력 6\n",
      "출력 7\n",
      "출력 8\n",
      "출력 9\n",
      "출력 10\n",
      "짝수합 : 30\n",
      "홀수합 : 25\n"
     ]
    }
   ],
   "source": [
    "# 1부터 10까지의 짝수와 홀수의 합을 구하시오\n",
    "# 2+4+6+8+10, 1+3+5+7+9\n",
    "# 위의 수식의 결과\n",
    "# 누적할 변수 데이터 준비\n",
    "even_sum = 0\n",
    "odd_sum = 0\n",
    "\n",
    "for i in range(11):\n",
    "    # 여기에 반복할 문장\n",
    "    print('출력', i)\n",
    "    # 누적을 표현\n",
    "    if (i%2 == 0):\n",
    "        even_sum = even_sum + i\n",
    "    else:\n",
    "        odd_sum = odd_sum + i\n",
    "    \n",
    "print(\"짝수합 :\", even_sum)\n",
    "print(\"홀수합 :\", odd_sum)"
   ]
  }
 ],
 "metadata": {
  "kernelspec": {
   "display_name": "Python 3 (ipykernel)",
   "language": "python",
   "name": "python3"
  },
  "language_info": {
   "codemirror_mode": {
    "name": "ipython",
    "version": 3
   },
   "file_extension": ".py",
   "mimetype": "text/x-python",
   "name": "python",
   "nbconvert_exporter": "python",
   "pygments_lexer": "ipython3",
   "version": "3.9.13"
  }
 },
 "nbformat": 4,
 "nbformat_minor": 5
}
