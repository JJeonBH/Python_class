{
 "cells": [
  {
   "cell_type": "code",
   "execution_count": 6,
   "id": "ce529d8f",
   "metadata": {},
   "outputs": [
    {
     "name": "stdout",
     "output_type": "stream",
     "text": [
      "273\n",
      "32\n",
      "103\n",
      "57\n",
      "52\n",
      "--------------------\n",
      "273\n",
      "32\n",
      "103\n",
      "57\n",
      "52\n"
     ]
    }
   ],
   "source": [
    "# 리스트 데이터 반복문\n",
    "# for in list\n",
    "list = [273, 32, 103, 57, 52]\n",
    "\n",
    "for i in range(len(list)):\n",
    "    print(list[i])\n",
    "    \n",
    "print('--------------------')\n",
    "# 리스트에 값을 꺼내어 출력\n",
    "for element in list:\n",
    "    print(element)"
   ]
  },
  {
   "cell_type": "code",
   "execution_count": 14,
   "id": "0f98fc50",
   "metadata": {},
   "outputs": [
    {
     "name": "stdout",
     "output_type": "stream",
     "text": [
      "오늘 매출액 : 517 만원\n",
      "오늘 평균 매출액 : 103.4 만원\n"
     ]
    }
   ],
   "source": [
    "# 리스트 데이터 반복문\n",
    "# for in list\n",
    "list = [273, 32, 103, 57, 52]\n",
    "\n",
    "# 응용문제 : 리스트에서 꺼낸 값들의 총합을 구하시오.\n",
    "# 273 + 32 + 103 + 57 + 52 ==> ??\n",
    "# 누적변수 준비\n",
    "# 매출 평균을 구하시오\n",
    "tot = 0\n",
    "avg = 0\n",
    "\n",
    "for element in list:\n",
    "    # 리스트의 모든 값을 누적처리\n",
    "    tot = tot + element\n",
    "\n",
    "avg = tot / len(list)\n",
    "\n",
    "print('오늘 매출액 :', tot, '만원')\n",
    "print('오늘 평균 매출액 :', avg, '만원')"
   ]
  }
 ],
 "metadata": {
  "kernelspec": {
   "display_name": "Python 3 (ipykernel)",
   "language": "python",
   "name": "python3"
  },
  "language_info": {
   "codemirror_mode": {
    "name": "ipython",
    "version": 3
   },
   "file_extension": ".py",
   "mimetype": "text/x-python",
   "name": "python",
   "nbconvert_exporter": "python",
   "pygments_lexer": "ipython3",
   "version": "3.9.13"
  }
 },
 "nbformat": 4,
 "nbformat_minor": 5
}
