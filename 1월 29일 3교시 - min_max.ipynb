{
 "cells": [
  {
   "cell_type": "code",
   "execution_count": 6,
   "id": "819bf6b6",
   "metadata": {},
   "outputs": [
    {
     "name": "stdout",
     "output_type": "stream",
     "text": [
      "가장 큰 키 : 189\n",
      "가장 작은 키 : 130\n"
     ]
    }
   ],
   "source": [
    "# min(최소값 함수), max(최대값 함수)\n",
    "# min(리스트 데이터), max(리스트 데이터)\n",
    "# 가장 키가 큰 사람의 키는?\n",
    "\n",
    "height = [150, 155, 160, 145, 130, 170, 189]\n",
    "\n",
    "max_height = max(height)\n",
    "min_height = min(height)\n",
    "\n",
    "print('가장 큰 키 :', max_height)\n",
    "print('가장 작은 키 :', min_height)"
   ]
  },
  {
   "cell_type": "code",
   "execution_count": 7,
   "id": "30bf2004",
   "metadata": {},
   "outputs": [
    {
     "name": "stdout",
     "output_type": "stream",
     "text": [
      "평균 키 : 157.0\n"
     ]
    }
   ],
   "source": [
    "# min(최소값 함수), max(최대값 함수)\n",
    "# min(리스트 데이터), max(리스트 데이터)\n",
    "# 중간 정도의 키는? (키의 평균을 구하라)\n",
    "\n",
    "height = [150, 155, 160, 145, 130, 170, 189]\n",
    "tot_height = 0\n",
    "for num in height:\n",
    "    tot_height += num\n",
    "\n",
    "print('평균 키 :', tot_height / len(height))"
   ]
  },
  {
   "cell_type": "code",
   "execution_count": 8,
   "id": "c617de94",
   "metadata": {},
   "outputs": [
    {
     "name": "stdout",
     "output_type": "stream",
     "text": [
      "평균 키 : 157.0\n"
     ]
    }
   ],
   "source": [
    "# min(최소값 함수), max(최대값 함수)\n",
    "# min(리스트 데이터), max(리스트 데이터)\n",
    "# 중간 정도의 키는? (키의 평균을 구하라)\n",
    "\n",
    "height = [150, 155, 160, 145, 130, 170, 189]\n",
    "tot_height = sum(height)\n",
    "\n",
    "print('평균 키 :', tot_height / len(height))"
   ]
  }
 ],
 "metadata": {
  "kernelspec": {
   "display_name": "Python 3 (ipykernel)",
   "language": "python",
   "name": "python3"
  },
  "language_info": {
   "codemirror_mode": {
    "name": "ipython",
    "version": 3
   },
   "file_extension": ".py",
   "mimetype": "text/x-python",
   "name": "python",
   "nbconvert_exporter": "python",
   "pygments_lexer": "ipython3",
   "version": "3.9.13"
  }
 },
 "nbformat": 4,
 "nbformat_minor": 5
}
