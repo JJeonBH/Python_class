{
 "cells": [
  {
   "cell_type": "code",
   "execution_count": 58,
   "id": "ba1680c2",
   "metadata": {},
   "outputs": [
    {
     "name": "stdout",
     "output_type": "stream",
     "text": [
      "You need Pytho\n"
     ]
    }
   ],
   "source": [
    "# 문자열 처리\n",
    "# 인덱싱, 슬라이싱(추출)\n",
    "\n",
    "a = 'Life is too short, You need Python'\n",
    "b = '0123456789012345678901234567890123'\n",
    "letter = a[19:-1]\n",
    "print(letter)"
   ]
  },
  {
   "cell_type": "code",
   "execution_count": 26,
   "id": "c9f04f36",
   "metadata": {},
   "outputs": [
    {
     "name": "stdout",
     "output_type": "stream",
     "text": [
      "1\n",
      "남성입니다.\n"
     ]
    }
   ],
   "source": [
    "jumin_Num = '010203-1400554'\n",
    "# 주민번호에서 성별을 추출하여 남자인지 여자인지 구분하시오\n",
    "gender = jumin_Num[7]\n",
    "print(gender)\n",
    "\n",
    "if gender == '2' or gender == '4':\n",
    "    print('여성입니다.')\n",
    "else:\n",
    "    print('남성입니다.')"
   ]
  },
  {
   "cell_type": "code",
   "execution_count": 54,
   "id": "d8b36e7e",
   "metadata": {},
   "outputs": [
    {
     "name": "stdout",
     "output_type": "stream",
     "text": [
      "태어난 년도 : 2002\n",
      "월 : 2\n",
      "일 : 3\n"
     ]
    }
   ],
   "source": [
    "# 주민번호에서 년도를 추출하여 나이를 출력하시오.\n",
    "jumin_Num = '020203-4400554'\n",
    "\n",
    "# num = jumin_Num[0] + jumin_Num[1]\n",
    "year = int(jumin_Num[0:2]) + 2000\n",
    "month = int(jumin_Num[2:4])\n",
    "day = int(jumin_Num[4:6])\n",
    "print('태어난 년도 :', year)\n",
    "print('월 :', month)\n",
    "print('일 :', day)"
   ]
  },
  {
   "cell_type": "code",
   "execution_count": 106,
   "id": "9b8c379f",
   "metadata": {},
   "outputs": [
    {
     "name": "stdout",
     "output_type": "stream",
     "text": [
      "I eat 3 apples.\n",
      "I eat 10 apples. 123.46 :  789.566\n",
      "I eat 20 apples. 1234.23232 : 10\n"
     ]
    }
   ],
   "source": [
    "# 다양한 데이터 출력 방법\n",
    "# 1. print(변수, 값), 옵션 end : 한 줄에 출력\n",
    "# 2. .format()\n",
    "# 3. %\n",
    "# 4. f 문자열 포맷팅\n",
    "\n",
    "print(\"I eat %d apples.\" % 3)\n",
    "\n",
    "num = 10\n",
    "print(\"I eat %d apples. %.2f : %8.3f\" % (num, 123.457, 789.565754))\n",
    "\n",
    "print(\"I eat {1} apples. {2} : {0}\".format(num, num+10, 1234.23232))"
   ]
  },
  {
   "cell_type": "code",
   "execution_count": 111,
   "id": "e592739e",
   "metadata": {},
   "outputs": [
    {
     "name": "stdout",
     "output_type": "stream",
     "text": [
      "    안녕 친구야\n"
     ]
    },
    {
     "data": {
      "text/plain": [
       "'    안녕 친구야'"
      ]
     },
     "execution_count": 111,
     "metadata": {},
     "output_type": "execute_result"
    }
   ],
   "source": [
    "print(\"%10s\" % \"안녕 친구야\")\n",
    "\"%10s\" % \"안녕 친구야\""
   ]
  },
  {
   "cell_type": "code",
   "execution_count": 115,
   "id": "64400296",
   "metadata": {},
   "outputs": [
    {
     "name": "stdout",
     "output_type": "stream",
     "text": [
      "안녕 친구야    \n"
     ]
    },
    {
     "data": {
      "text/plain": [
       "'안녕 친구야    '"
      ]
     },
     "execution_count": 115,
     "metadata": {},
     "output_type": "execute_result"
    }
   ],
   "source": [
    "print(\"%-10s\" % \"안녕 친구야\")\n",
    "\"%-10s\" % \"안녕 친구야\""
   ]
  },
  {
   "cell_type": "code",
   "execution_count": 178,
   "id": "750c4797",
   "metadata": {
    "scrolled": true
   },
   "outputs": [
    {
     "name": "stdout",
     "output_type": "stream",
     "text": [
      "안녕 친구야              \n",
      "       안녕 친구야       \n",
      "              안녕 친구야\n",
      "*******안녕 친구야*******\n",
      "=======안녕 친구야=======\n",
      "00000000000000012345\n",
      "             123.457\n"
     ]
    },
    {
     "data": {
      "text/plain": [
       "'       안녕 친구야       '"
      ]
     },
     "execution_count": 178,
     "metadata": {},
     "output_type": "execute_result"
    }
   ],
   "source": [
    "print(\"{0:<20}\".format(\"안녕 친구야\"))\n",
    "print(\"{0:^20}\".format(\"안녕 친구야\"))\n",
    "print(\"{0:>20}\".format(\"안녕 친구야\"))\n",
    "print(\"{0:*^20}\".format(\"안녕 친구야\"))\n",
    "print(\"{0:=^20}\".format(\"안녕 친구야\"))\n",
    "print(\"{0:0>20}\".format(12345))\n",
    "print(\"{0:>20.3f}\".format(123.4567))\n",
    "\"{0:^20}\".format(\"안녕 친구야\")"
   ]
  },
  {
   "cell_type": "code",
   "execution_count": 172,
   "id": "e5466921",
   "metadata": {},
   "outputs": [
    {
     "data": {
      "text/plain": [
       "'나의 이름은 홍길동입니다. 나이는 30입니다.'"
      ]
     },
     "execution_count": 172,
     "metadata": {},
     "output_type": "execute_result"
    }
   ],
   "source": [
    "# f 포맷팅\n",
    "name = '홍길동'\n",
    "age = 30\n",
    "f'나의 이름은 {name}입니다. 나이는 {age}입니다.'"
   ]
  },
  {
   "cell_type": "code",
   "execution_count": 179,
   "id": "5db41600",
   "metadata": {},
   "outputs": [
    {
     "name": "stdout",
     "output_type": "stream",
     "text": [
      "7\n",
      "잘 지냈어\n",
      "안녕 친구야 \n"
     ]
    }
   ],
   "source": [
    "str = \"안녕 친구야 잘 지냈어\"\n",
    "pos = str.index('잘')\n",
    "out = str[pos:]\n",
    "out1 = str[:pos]\n",
    "\n",
    "print(pos)\n",
    "print(out)\n",
    "print(out1)"
   ]
  },
  {
   "cell_type": "code",
   "execution_count": 168,
   "id": "2fafcd1a",
   "metadata": {},
   "outputs": [
    {
     "data": {
      "text/plain": [
       "'a,b,c,d'"
      ]
     },
     "execution_count": 168,
     "metadata": {},
     "output_type": "execute_result"
    }
   ],
   "source": [
    "\",\".join('abcd')"
   ]
  }
 ],
 "metadata": {
  "kernelspec": {
   "display_name": "Python 3 (ipykernel)",
   "language": "python",
   "name": "python3"
  },
  "language_info": {
   "codemirror_mode": {
    "name": "ipython",
    "version": 3
   },
   "file_extension": ".py",
   "mimetype": "text/x-python",
   "name": "python",
   "nbconvert_exporter": "python",
   "pygments_lexer": "ipython3",
   "version": "3.9.13"
  }
 },
 "nbformat": 4,
 "nbformat_minor": 5
}
